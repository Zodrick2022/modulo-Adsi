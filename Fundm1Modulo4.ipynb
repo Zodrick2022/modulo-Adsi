{
 "cells": [
  {
   "cell_type": "markdown",
   "metadata": {},
   "source": [
    "# Fundm1Modulo4"
   ]
  },
  {
   "cell_type": "code",
   "execution_count": 10,
   "metadata": {},
   "outputs": [
    {
     "name": "stdout",
     "output_type": "stream",
     "text": [
      "La nota es:  1.0\n",
      "La nota es:  2.0\n",
      "La nota es:  3.0\n",
      "La nota es:  4.0\n",
      "Resultado del promedio: 2.5\n"
     ]
    }
   ],
   "source": [
    "#funciones \n",
    "\n",
    "def Notas():\n",
    "    nNotas = int(input(\"Ingrese la cantidad de notas: \"))\n",
    "    notas = []\n",
    "    for i in range(nNotas):\n",
    "        nota = float(input(\"Ingrese la nota ({}): \".format(i+1)))\n",
    "        notas.append(nota)\n",
    "        print(\"La nota es: \", nota)\n",
    "    promedio = round(sum(notas)/len(notas), 2)\n",
    "    return promedio\n",
    "\n",
    "notas = Notas()\n",
    "print('Resultado del promedio:' ,notas)"
   ]
  },
  {
   "cell_type": "code",
   "execution_count": null,
   "metadata": {},
   "outputs": [],
   "source": [
    "def list_sum(lst):\n",
    "    s = 0\n",
    "    \n",
    "    for elem in lst:\n",
    "        s += elem\n",
    "    return s"
   ]
  },
  {
   "cell_type": "code",
   "execution_count": null,
   "metadata": {},
   "outputs": [],
   "source": [
    "\n",
    "#año bisiesto\n",
    "\n",
    "año = 1980 #el año que queremos comprobar\n",
    "\n",
    "if año % 4 != 0: #no divisible entre 4\n",
    "\tprint(\"No es bisiesto\")\n",
    "elif año % 4 == 0 and año % 100 != 0: #divisible entre 4 y no entre 100 o 400\n",
    "\tprint(\"Es bisiesto\")\n",
    "elif año % 4 == 0 and año % 100 == 0 and año % 400 != 0: #divisible entre 4 y 10 y no entre 400\n",
    "\tprint(\"No es bisiesto\")\n",
    "elif año % 4 == 0 and año % 100 == 0 and año % 400 == 0: #divisible entre 4, 100 y 400\n",
    "\tprint(\"Es bisiesto\")"
   ]
  },
  {
   "cell_type": "code",
   "execution_count": null,
   "metadata": {},
   "outputs": [],
   "source": [
    "año = 1980\n",
    "\n",
    "if año % 4 == 0 and (año % 100 != 0 or año % 400 == 0):\n",
    "\tprint(\"Es bisiesto\")\n",
    "else:\n",
    "\tprint(\"No es bisiesto\")"
   ]
  },
  {
   "cell_type": "code",
   "execution_count": null,
   "metadata": {},
   "outputs": [],
   "source": [
    "año = 1980\n",
    "\n",
    "print(\"Es bisiesto\" if not año % 4 and (año % 100 or  not año % 400) else \"No es bisiesto\")\n",
    "\n",
    "#\n",
    "\n",
    "def es_bisiesto(año):\n",
    "\treturn not año % 4 and (año % 100 or not año % 400)"
   ]
  },
  {
   "cell_type": "markdown",
   "metadata": {},
   "source": [
    "### ejercicio\n",
    "\n",
    "escribir y probar una función que toma tres argumentos (un año, un mes y un día del mes) y devuelve el día correspondiente del año, o devuelve None si cualquiera de los argumentos no es válido."
   ]
  },
  {
   "cell_type": "code",
   "execution_count": 59,
   "metadata": {},
   "outputs": [
    {
     "name": "stdout",
     "output_type": "stream",
     "text": [
      "[2000, 12, 31]\n",
      "El mes de (Diciembre No.12) del año 2000 tiene 31 días \n",
      "Y el día 31 es el día 366 del año\n"
     ]
    }
   ],
   "source": [
    "def is_year_leap(year):\n",
    "    # if year % 4 == 0 and (year % 100 != 0 or year % 400 == 0):return True\n",
    "    # else: return False\n",
    "    return not year % 4 and (year % 100 or not year % 400)\n",
    "\n",
    "\n",
    "mes = {1: \"Enero\",\n",
    "       2: \"Febrero\", \n",
    "       3: \"Marzo\", \n",
    "       4: \"Abril\", \n",
    "       5: \"Mayo\", \n",
    "       6: \"Junio\", \n",
    "       7: \"Julio\", \n",
    "       8: \"Agosto\", \n",
    "       9: \"Septiembre\", \n",
    "       10: \"Octubre\", \n",
    "       11: \"Noviembre\", \n",
    "       12: \"Diciembre\"}\n",
    "\n",
    "\n",
    "def days_in_month(year, month):\n",
    "    datos = {1: 31,\n",
    "             2: 28, \n",
    "             3: 31, \n",
    "             4: 30, \n",
    "             5: 31, \n",
    "             6: 30,\n",
    "             7: 31, \n",
    "             8: 31, \n",
    "             9: 30, \n",
    "             10: 31, \n",
    "             11: 30, \n",
    "             12: 31}\n",
    "    if month < 1 or month > 12:\n",
    "        return None\n",
    "    else:\n",
    "        if is_year_leap(year) and month == 2:\n",
    "            return 29\n",
    "        else:\n",
    "            return datos[month]\n",
    "\n",
    "\n",
    "def day_of_year(year, month, day):\n",
    "    if days_in_month(year, month) == None:\n",
    "        return None\n",
    "    else:\n",
    "        if day > days_in_month(year, month):\n",
    "            return None\n",
    "        else:\n",
    "            diasmes = days_in_month(year, month)\n",
    "            NTotaldias = 0\n",
    "            for i in range(1, month):\n",
    "                NTotaldias += days_in_month(year, i)\n",
    "            NTotaldias += day\n",
    "            return 'El mes de ({} No.{}) del año {} tiene {} días \\nY el día {} es el día {} del año'.format(mes[month], month, year, diasmes, day, NTotaldias)\n",
    "\n",
    "\n",
    "values=[]\n",
    "data=['año','mes','dia']\n",
    "for i in range(3):\n",
    "    values.append(int(input('Ingrese el valor {}: '.format(data[i]))))\n",
    "\n",
    "print(values)\n",
    "\n",
    "print(day_of_year(values[0], values[1], values[2]))\n"
   ]
  },
  {
   "cell_type": "markdown",
   "metadata": {},
   "source": [
    "### Ejercicio\n",
    "```\n",
    "    Un número natural es primo si es mayor que 1 y no tiene divisores más que 1 y si mismo.\n",
    "    \n",
    "    ¿Complicado? De ningúna manera. Por ejemplo, 8 no es un número primo, ya que puedes dividirlo entre 2 y 4 (no podemos usar divisores iguales a 1 y 8, ya que la definición lo prohíbe).\n",
    "    \n",
    "    Por otra parte, 7 es un número primo, ya que no podemos encontrar ningún divisor para el.\n",
    "    \n",
    "    \n",
    "    Tu tarea es escribir una función que verifique si un número es primo o no.\n",
    "    \n",
    "    La función:\n",
    "    \n",
    "    Se llama is_prime.\n",
    "    Toma un argumento (el valor a verificar).\n",
    "    Devuelve True si el argumento es un número primo, y False de lo contrario.\n",
    "    Sugerencia: intenta dividir el argumento por todos los valores posteriores (comenzando desde 2) y verifica el resto: si es cero, tu número no puede ser un número primo; analiza cuidadosamente cuándo deberías detener el proceso.\n",
    "    \n",
    "    Si necesitas conocer la raíz cuadrada de cualquier valor, puedes utilizar el operador **. Recuerda: la raíz cuadrada de x es lo mismo que x0.5.\n",
    "    \n",
    "    Complementa el código en el editor.\n",
    "    \n",
    "    Ejecuta tu código y verifica si tu salida es la misma que la nuestra.\n",
    "    \n",
    "    Datos de prueba\n",
    "    Salida esperada:\n",
    "    \n",
    "    2 3 5 7 11 13 17 19"
   ]
  },
  {
   "cell_type": "code",
   "execution_count": 55,
   "metadata": {},
   "outputs": [
    {
     "name": "stdout",
     "output_type": "stream",
     "text": [
      "2\t3\t5\t7\t11\t13\t17\t19\t23\t29\t31\t37\t41\t43\t47\t53\t59\t61\t67\t71\t73\t79\t83\t89\t97\t101\t\n"
     ]
    }
   ],
   "source": [
    "def is_prime(num):\n",
    "    if num == 1:\n",
    "        return False\n",
    "    elif num == 2:\n",
    "        return True\n",
    "    else:\n",
    "        for i in range(2, num):\n",
    "            if num % i == 0:\n",
    "                return False\n",
    "        return True \n",
    "\n",
    "for i in range(1,101):\n",
    "\tif is_prime(i + 1):\n",
    "\t\t\tprint( i + 1, end=\"\\t\")\n",
    "print()\n"
   ]
  },
  {
   "cell_type": "code",
   "execution_count": 58,
   "metadata": {},
   "outputs": [
    {
     "name": "stdout",
     "output_type": "stream",
     "text": [
      "True\n"
     ]
    }
   ],
   "source": [
    "def Nprimo(numero):\n",
    "    if numero == 1:\n",
    "        return False\n",
    "    elif numero == 2:\n",
    "        return True\n",
    "    else:\n",
    "        for i in range(2, numero):\n",
    "            if numero % i == 0:\n",
    "                return False\n",
    "        return True \n",
    "\n",
    "print(Nprimo(1_000_003))\n"
   ]
  },
  {
   "cell_type": "markdown",
   "metadata": {},
   "source": [
    "### Ejercicio \n",
    "\n",
    "Escenario\n",
    "El consumo de combustible de un automóvil se puede expresar de muchas maneras diferentes. Por ejemplo, en Europa, se muestra como la cantidad de combustible consumido por cada 100 kilómetros.\n",
    "\n",
    "En los EE. UU., se muestra como la cantidad de millas recorridas por un automóvil con un galón de combustible.\n",
    "\n",
    "Tu tarea es escribir un par de funciones que conviertan l/100km a mpg (milas por galón), y viceversa.\n",
    "\n",
    "Las funciones:\n",
    "\n",
    "Se llaman liters_100km_to_miles_gallon y miles_gallon_to_liters_100km respectivamente.\n",
    "Toman un argumento (el valor correspondiente a sus nombres).\n",
    "Complementa el código en el editor.\n",
    "\n",
    "Ejecuta tu código y verifica si tu salida es la misma que la nuestra.\n",
    "\n",
    "Aquí hay información para ayudarte:\n",
    "```\n",
    "1 milla = 1609.344 metros.\n",
    "1 galón = 3.785411784 litros.\n",
    "Salida esperada:\n",
    "\n",
    "60.31143162393162\n",
    "31.36194444444444\n",
    "23.52145833333333\n",
    "3.9007393587617467\n",
    "7.490910297239916\n",
    "10.009131205673757\n",
    "\n"
   ]
  },
  {
   "cell_type": "code",
   "execution_count": null,
   "metadata": {},
   "outputs": [],
   "source": []
  }
 ],
 "metadata": {
  "kernelspec": {
   "display_name": "Python 3.8.2 64-bit",
   "language": "python",
   "name": "python3"
  },
  "language_info": {
   "codemirror_mode": {
    "name": "ipython",
    "version": 3
   },
   "file_extension": ".py",
   "mimetype": "text/x-python",
   "name": "python",
   "nbconvert_exporter": "python",
   "pygments_lexer": "ipython3",
   "version": "3.8.2"
  },
  "orig_nbformat": 4,
  "vscode": {
   "interpreter": {
    "hash": "0adcc2737ebf6a4a119f135174df96668767fca1ef1112612db5ecadf2b6d608"
   }
  }
 },
 "nbformat": 4,
 "nbformat_minor": 2
}
