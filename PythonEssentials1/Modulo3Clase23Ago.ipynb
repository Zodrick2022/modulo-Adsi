{
  "cells": [
    {
      "cell_type": "markdown",
      "metadata": {
        "id": "view-in-github",
        "colab_type": "text"
      },
      "source": [
        "<a href=\"https://colab.research.google.com/github/luis-fer993/CiscoPythonADSI/blob/master/Modulo3Clase23Ago.ipynb\" target=\"_parent\"><img src=\"https://colab.research.google.com/assets/colab-badge.svg\" alt=\"Open In Colab\"/></a>"
      ]
    },
    {
      "cell_type": "markdown",
      "metadata": {
        "id": "dPBYfLdI5GoQ"
      },
      "source": [
        "## Ejercicio\n",
        "\n",
        "\n",
        "---\n",
        "calcular el promedio de notas entre un rango de 0-5, obtener el promedio y mostralo.\n",
        "\n",
        "* Si el promedio es mayor a 3.5 el alumno aprobo de lo contrario reprobo."
      ]
    },
    {
      "cell_type": "code",
      "execution_count": null,
      "metadata": {
        "id": "c301Ji5VEwOR",
        "colab": {
          "base_uri": "https://localhost:8080/"
        },
        "outputId": "ee029543-e6c2-47bd-fcc5-077270d1048e"
      },
      "outputs": [
        {
          "output_type": "stream",
          "name": "stdout",
          "text": [
            "14.3\n",
            "3.575\n"
          ]
        }
      ],
      "source": [
        "print(4+3.3+2+5)\n",
        "print(14.3/4)"
      ]
    },
    {
      "cell_type": "code",
      "execution_count": null,
      "metadata": {
        "id": "a7fAhpqo4v7a"
      },
      "outputs": [],
      "source": [
        "print('-'*40,'\\n\\t Promedio de Notas','\\n'+'-'*40,'\\n')\n",
        "estudent=input('[+] Ingrese el nombre del estudiante: \\n --> ')\n",
        "print('[+] Ingrese notas en un rango de 0 a 5','\\n[+] Para detener ingrese 000','\\n')\n",
        "\n",
        "\n",
        "valor=int(input('Ingrese el numero de notas --> '))\n",
        "\n",
        "while valor <2:\n",
        "  print('Ingrese un valor mayor a 1')\n",
        "  valor=int(input('Ingrese el numero de notas --> '))\n",
        "    \n",
        "      \n",
        "cont=1;sumNotas=0\n",
        "while cont <= valor:\n",
        "  notas=float(input('[-] Ingrese nota ({}): --> '.format(cont)))\n",
        "  while (notas >5) or ( notas <0):\n",
        "    print('error ingrese notas de 0 a 5')\n",
        "    notas=float(input('[-] Ingrese nota ({}): --> '.format(cont)))\n",
        "  if (round(notas,0) == 000):\n",
        "    break\n",
        "  \n",
        "  cont+=1\n",
        "  sumNotas+=notas\n",
        "  prom=round(float(sumNotas/(cont-1)),1)\n",
        "  if prom > 3.5:\n",
        "    resultado = 'Aprobado'\n",
        "  else:\n",
        "    resultado = 'Reprobado'\n",
        "\n",
        "print('\\n\\n'+'-'*40,'\\n'+'\\t  Resultados:','\\n'+'-'*40,'\\n')\n",
        "print('El/la estudiante {} esta '.format(estudent),resultado,'\\nCon un promedio de notas de :',prom)\n"
      ]
    },
    {
      "cell_type": "code",
      "source": [
        "for i in range(2,31):\n",
        "  print(i)"
      ],
      "metadata": {
        "id": "aknBunggpMio"
      },
      "execution_count": null,
      "outputs": []
    },
    {
      "cell_type": "markdown",
      "source": [
        "lista en python\n"
      ],
      "metadata": {
        "id": "NHX2LvOMrmjL"
      }
    },
    {
      "cell_type": "code",
      "source": [
        "lista=[1,2,3]\n",
        "print(len(lista))\n",
        "constructor=list((1,2,3,4));print(constructor)\n",
        "\n",
        "thislist = [\"apple\", \"banana\", \"cherry\"]\n",
        "print(thislist[-1])\n",
        "\n",
        "thislist = [\"apple\", \"banana\", \"cherry\", \"orange\", \"kiwi\", \"melon\", \"mango\"]\n",
        "print(thislist[2:5])\n",
        "\n",
        "\n",
        "thislist = [\"apple\", \"banana\", \"cherry\"]\n",
        "if \"apple\" in thislist:\n",
        "  print(\"Yes, 'apple' is in the fruits list\")\n",
        "\n",
        "thislist = [\"apple\", \"banana\", \"cherry\"]\n",
        "thislist[1] = \"blackcurrant\"\n",
        "print(thislist)\n",
        "\n",
        "#insertar un valor en determinada poscicion sin borrarla moviendolas\n",
        "thislist = [\"apple\", \"banana\", \"cherry\"]\n",
        "thislist.insert(2, \"watermelon\")\n",
        "print(thislist)\n",
        "\n",
        "#Insertar un valor al final de la lista\n",
        "thislist = [\"apple\", \"banana\", \"cherry\"]\n",
        "thislist.append(\"orange\")\n",
        "print(thislist)\n",
        "\n",
        "#extiende la lista \"thislist\" agregandole otra lista \n",
        "#podemosinsertar diferntes tipos de datos no solo listas\n",
        "thislist = [\"apple\", \"banana\", \"cherry\"]\n",
        "tropical = [\"mango\", \"pineapple\", \"papaya\"]\n",
        "thislist.extend(tropical)\n",
        "print(thislist)\n",
        "\n",
        "#remove un item de la lista en especifico\n",
        "thislist = [\"apple\", \"banana\", \"cherry\"]\n",
        "thislist.remove(\"banana\")\n",
        "print(thislist)\n",
        "\n",
        "#remove un index especifico de la lista\n",
        "thislist = [\"apple\", \"banana\", \"cherry\"]\n",
        "thislist.pop(1) #si no tiene argumentos elimina el ultimo pop()\n",
        "print(thislist)\n",
        "\n",
        "#otra forma de remover item segun si index\n",
        "thislist = [\"apple\", \"banana\", \"cherry\"]\n",
        "del thislist[0] #index\n",
        "print(thislist)\n",
        "\n",
        "thislist = [\"apple\", \"banana\", \"cherry\"]\n",
        "del thislist#remove la lista completamente\n",
        "#genera error si se llama la variable ya que la elimina\n",
        "\n",
        "#eliminar todos los items sin eliminar la lista \n",
        "#queda una lista vacia []\n",
        "thislist = [\"apple\", \"banana\", \"cherry\"]\n",
        "thislist.clear()\n",
        "print(thislist)#[]\n",
        "\n",
        "\n",
        "#iteracion de lista con bucle for\n",
        "thislist = [\"apple\", \"banana\", \"cherry\"]\n",
        "for i in range(len(thislist)):\n",
        "  print(thislist[i])\n",
        "\n",
        "\n",
        "#usando list comprenhension\n",
        "thislist = [\"apple\", \"banana\", \"cherry\"]\n",
        "[print(x) for x in thislist]\n",
        "\n"
      ],
      "metadata": {
        "colab": {
          "base_uri": "https://localhost:8080/"
        },
        "id": "rj1fzuR3roB0",
        "outputId": "4c05bd32-3989-40d3-d822-64499244aa82"
      },
      "execution_count": null,
      "outputs": [
        {
          "output_type": "stream",
          "name": "stdout",
          "text": [
            "3\n",
            "[1, 2, 3, 4]\n",
            "cherry\n",
            "['cherry', 'orange', 'kiwi']\n"
          ]
        }
      ]
    },
    {
      "cell_type": "code",
      "source": [
        "blocks = int(input(\"Ingresa el número de bloques: \"))\n",
        "\n",
        "contador=0\n",
        "altura=0\n",
        "\n",
        "while contador < blocks:\n",
        "    for bloaque in range(blocks):\n",
        "        altura\n",
        "\n",
        "print(\"La altura de la pirámide:\", height)\n"
      ],
      "metadata": {
        "id": "bMH0zagL1hcX"
      },
      "execution_count": null,
      "outputs": []
    },
    {
      "cell_type": "markdown",
      "source": [
        "### logica de computadora\n",
        "\n",
        "```python\n",
        "\n",
        "and # conjuncion\n",
        "or #disyuncion\n",
        "not # niega una sentecia \n",
        "```"
      ],
      "metadata": {
        "id": "RzTm9651HbIy"
      }
    },
    {
      "cell_type": "markdown",
      "source": [
        "### opearciones bit a bit \n",
        "\n",
        " * &  (ampersand) - conjunción a nivel de  bits.\n",
        "+ |  (barra vertical) - disyunción a  nivel de bits.\n",
        " + ~  (tilde) - negación a nivel de bits.\n",
        " ^  (signo de intercalación) - o exclusivo a nivel de bits (xor)."
      ],
      "metadata": {
        "id": "4FVyjVsKIBf1"
      }
    },
    {
      "cell_type": "code",
      "source": [
        "# metodos vs funciones\n",
        "\n",
        "#una funcion se ve : resultado =  funcion(argumento)\n",
        "\n",
        "#un metodo : resultado =  data.method(arg)  "
      ],
      "metadata": {
        "id": "NZk-JuyJOdad"
      },
      "execution_count": null,
      "outputs": []
    },
    {
      "cell_type": "code",
      "source": [
        "lista=[1,2,3,4,5,6,7,8,9]\n",
        "\n",
        "for i in lista:\n",
        "  print(i,'+ ',i+1,'=',i+i+1)\n"
      ],
      "metadata": {
        "colab": {
          "base_uri": "https://localhost:8080/"
        },
        "id": "PIHXXieNOz4x",
        "outputId": "568cfbde-c3ff-4f2b-da8f-0d18108002ac"
      },
      "execution_count": null,
      "outputs": [
        {
          "output_type": "stream",
          "name": "stdout",
          "text": [
            "1 +  2 = 3\n",
            "2 +  3 = 5\n",
            "3 +  4 = 7\n",
            "4 +  5 = 9\n",
            "5 +  6 = 11\n",
            "6 +  7 = 13\n",
            "7 +  8 = 15\n",
            "8 +  9 = 17\n",
            "9 +  10 = 19\n"
          ]
        }
      ]
    },
    {
      "cell_type": "code",
      "source": [
        "#sumando todos los numeros de la lista\n",
        "\n",
        "miLista = [10, 1, 8, 3, 5]\n",
        "suma = 0\n",
        "\n",
        "for i in range(len(miLista)):\n",
        "    suma += miLista[i]\n",
        "\n",
        "print(suma)\n"
      ],
      "metadata": {
        "id": "lVB6vzhJQeOA"
      },
      "execution_count": null,
      "outputs": []
    },
    {
      "cell_type": "code",
      "source": [
        "miLista = [] # creando una lista vacía\n",
        "\n",
        "for i in range (5):\n",
        "    miLista.append (i + 1)\n",
        "\n",
        "print(miLista)\n"
      ],
      "metadata": {
        "id": "YkmAYSrEQG7L"
      },
      "execution_count": null,
      "outputs": []
    },
    {
      "cell_type": "markdown",
      "source": [
        "### revertir el orden de los items en la lista\n",
        "\n",
        "Hemos asignado la variable longitud a la longitud de la lista actual (esto hace que nuestro código sea un poco más claro y más corto).\n",
        "\n",
        "Hemos lanzado el ciclo for para que se ejecute a través de su cuerpo longitud // 2 veces (esto funciona bien para listas con longitudes pares e impares, porque cuando la lista contiene un número impar de elementos, el del medio permanece intacto).\n",
        "\n",
        "Hemos intercambiado el elemento i (desde el principio de la lista) por el que tiene un índice igual a (longitud-i-1) (desde el final de la lista); en nuestro ejemplo, for i igual a 0 la (longitud-i-1) da 4; for i igual a 3, da 3: esto es exactamente lo que necesitábamos."
      ],
      "metadata": {
        "id": "os5fyZ6kSkYc"
      }
    },
    {
      "cell_type": "code",
      "source": [
        "miLista = [10, 1, 8, 3, 5]\n",
        "longitud = len(miLista)\n",
        "\n",
        "for i in range (longitud // 2):\n",
        "  miLista[i], miLista[longitud-i-1] = miLista[longitud-i-1], miLista[i]\n",
        "\n",
        "print(miLista) "
      ],
      "metadata": {
        "id": "wNvd1MfLSfWi"
      },
      "execution_count": null,
      "outputs": []
    },
    {
      "cell_type": "code",
      "source": [
        "#ordenamiento de borbuja\n",
        "\n",
        "\n",
        "miLista = [8, 10, 6, 2, 4] # lista para ordenar\n",
        "swapped = True # lo necesitamos verdadero (True) para ingresar al bucle while\n",
        "\n",
        "while swapped:\n",
        "    swapped = False # no hay swaps hasta ahora\n",
        "    for i in range(len(miLista) - 1):#recorre cada item de la lista\n",
        "        if miLista[i] > miLista[i + 1]:#compara si la poscicion en la que esta es mayor a la siguiente\n",
        "            swapped= True # cambia el valor ya que se intercambio una poscicion\n",
        "            miLista[i], miLista[i + 1] = miLista[i + 1], miLista[i]#reasigna los valores de la lista intercambiando la posciocion de el mayor con la de el menor \n",
        "\n",
        "print(miLista)"
      ],
      "metadata": {
        "id": "Z9Wi3HMQWjPT"
      },
      "execution_count": null,
      "outputs": []
    },
    {
      "cell_type": "code",
      "source": [
        "#forma interactiva de ordenar listas\n",
        "\n",
        "miLista = []\n",
        "swapped = True\n",
        "num = int (input(\"¿Cuántos elementos deseas ordenar?:\"))\n",
        "\n",
        "for i in range(num):\n",
        "    val = float(input(\"Introduce un elemento de la lista:\"))\n",
        "    miLista.append(val)\n",
        "\n",
        "while swapped:\n",
        "    swapped = False\n",
        "    for i in range(len(miLista) - 1):\n",
        "        if miLista[i] > miLista[i + 1]:\n",
        "            swapped = True\n",
        "            miLista[i], miLista[i + 1] = miLista[i + 1], miLista[i]\n",
        "\n",
        "print(\"\\nOrdenado:\")\n",
        "print(miLista)\n"
      ],
      "metadata": {
        "id": "9SdeiIkBXTNI"
      },
      "execution_count": null,
      "outputs": []
    },
    {
      "cell_type": "code",
      "source": [
        "#funcion de ordenamineto \n",
        "\n",
        "miLista = [8, 10, 6, 2, 4,7,9,11,15,20]\n",
        "miLista.sort() #ordena la lista\n",
        "#reverse = True, como argumento la ordena invertidamente\n",
        "print(miLista)\n",
        "\n",
        "miLista.reverse()#invierte las poscicones de la lista\n",
        "\n",
        "print(miLista)"
      ],
      "metadata": {
        "colab": {
          "base_uri": "https://localhost:8080/"
        },
        "id": "CrNzti8wXYI6",
        "outputId": "916a1ec4-1016-48af-e757-20c1ed96c5c3"
      },
      "execution_count": null,
      "outputs": [
        {
          "output_type": "stream",
          "name": "stdout",
          "text": [
            "[2, 4, 6, 7, 8, 9, 10, 11, 15, 20]\n",
            "[20, 15, 11, 10, 9, 8, 7, 6, 4, 2]\n",
            "[15, 9]\n"
          ]
        }
      ]
    },
    {
      "cell_type": "markdown",
      "source": [
        "# Evaluacion mOdulo 3 ejercicios y problemas resultos"
      ],
      "metadata": {
        "id": "UJr6mprgh17T"
      }
    },
    {
      "cell_type": "code",
      "source": [
        "nums=[]\n",
        "val=nums[:]\n",
        "val.append(1)\n",
        "print(nums,val)"
      ],
      "metadata": {
        "colab": {
          "base_uri": "https://localhost:8080/"
        },
        "id": "Sn5dBW5PbeBy",
        "outputId": "7f234e45-db31-4fb8-f0ae-587d8dc210b5"
      },
      "execution_count": null,
      "outputs": [
        {
          "output_type": "stream",
          "name": "stdout",
          "text": [
            "[] [1]\n"
          ]
        }
      ]
    },
    {
      "cell_type": "code",
      "source": [
        "nums=[]\n",
        "val=nums[]\n",
        "val.append(1)\n",
        "print(nums,val)"
      ],
      "metadata": {
        "id": "O3HtMz02d1hF"
      },
      "execution_count": null,
      "outputs": []
    },
    {
      "cell_type": "code",
      "source": [
        "lst=[0 for i in range(1,3)]\n",
        "print(lst)"
      ],
      "metadata": {
        "colab": {
          "base_uri": "https://localhost:8080/"
        },
        "id": "klzqX9eod46n",
        "outputId": "1584dd97-a278-4a31-cb17-9917cac1767e"
      },
      "execution_count": null,
      "outputs": [
        {
          "output_type": "stream",
          "name": "stdout",
          "text": [
            "[0, 0]\n"
          ]
        }
      ]
    },
    {
      "cell_type": "code",
      "source": [
        "lst=[0,1,2,3]\n",
        "x=1\n",
        "for el in lst:\n",
        "  x*=el\n",
        "\n",
        "print(x)"
      ],
      "metadata": {
        "colab": {
          "base_uri": "https://localhost:8080/"
        },
        "id": "-UScPPSaeSeH",
        "outputId": "36663a27-fe0d-4769-90a2-b2ff09f63c7d"
      },
      "execution_count": null,
      "outputs": [
        {
          "output_type": "stream",
          "name": "stdout",
          "text": [
            "0\n"
          ]
        }
      ]
    },
    {
      "cell_type": "code",
      "source": [
        "x=1\n",
        "x=x==x\n",
        "print(x)"
      ],
      "metadata": {
        "colab": {
          "base_uri": "https://localhost:8080/"
        },
        "id": "V1qO7l2Je7nV",
        "outputId": "2f8b6bca-cf0a-47de-8f1d-554dc6825fff"
      },
      "execution_count": null,
      "outputs": [
        {
          "output_type": "stream",
          "name": "stdout",
          "text": [
            "True\n"
          ]
        }
      ]
    },
    {
      "cell_type": "code",
      "source": [
        "i=0\n",
        "while i <=5:\n",
        "  i+=1\n",
        "  if i % 2==0:\n",
        "    break\n",
        "  print('+')"
      ],
      "metadata": {
        "colab": {
          "base_uri": "https://localhost:8080/"
        },
        "id": "eiZvXDWDfJi3",
        "outputId": "8842e969-7400-48c7-952c-5c83ccd63829"
      },
      "execution_count": null,
      "outputs": [
        {
          "output_type": "stream",
          "name": "stdout",
          "text": [
            "+\n"
          ]
        }
      ]
    },
    {
      "cell_type": "code",
      "source": [
        "for i in range(1):\n",
        "  print('x')\n",
        "else:\n",
        "  print('x')"
      ],
      "metadata": {
        "colab": {
          "base_uri": "https://localhost:8080/"
        },
        "id": "Gk_0mZQJgCHe",
        "outputId": "d2da09ce-980d-4df3-aa58-dc114d59be95"
      },
      "execution_count": null,
      "outputs": [
        {
          "output_type": "stream",
          "name": "stdout",
          "text": [
            "x\n",
            "x\n"
          ]
        }
      ]
    },
    {
      "cell_type": "code",
      "source": [
        "var=1\n",
        "while var <10:\n",
        "  print('x')\n",
        "  var=var<<1"
      ],
      "metadata": {
        "colab": {
          "base_uri": "https://localhost:8080/"
        },
        "id": "fQTBqvIhgqoB",
        "outputId": "5c1a0f10-2fd0-4dcf-cee4-e69c3d93c779"
      },
      "execution_count": null,
      "outputs": [
        {
          "output_type": "stream",
          "name": "stdout",
          "text": [
            "x\n",
            "x\n",
            "x\n",
            "x\n"
          ]
        }
      ]
    },
    {
      "cell_type": "code",
      "source": [],
      "metadata": {
        "id": "Tu2NCJ7gtTnD"
      },
      "execution_count": null,
      "outputs": []
    },
    {
      "cell_type": "code",
      "source": [
        "a=1\n",
        "b=0\n",
        "c=a&b\n",
        "d=a|b\n",
        "e=a^b\n",
        "print(c+d+e)"
      ],
      "metadata": {
        "colab": {
          "base_uri": "https://localhost:8080/"
        },
        "id": "efyTRWfihGzP",
        "outputId": "403b2461-0de1-41b3-8085-a1ab3af0c5d3"
      },
      "execution_count": null,
      "outputs": [
        {
          "output_type": "stream",
          "name": "stdout",
          "text": [
            "2\n"
          ]
        }
      ]
    },
    {
      "cell_type": "code",
      "source": [
        "lst=[3,1,-2]\n",
        "print(lst[lst[-1]])"
      ],
      "metadata": {
        "colab": {
          "base_uri": "https://localhost:8080/"
        },
        "id": "tG1f2Uchhm-_",
        "outputId": "5bdb739a-fd4f-4a30-d403-992c264ff660"
      },
      "execution_count": null,
      "outputs": [
        {
          "output_type": "stream",
          "name": "stdout",
          "text": [
            "1\n"
          ]
        }
      ]
    },
    {
      "cell_type": "code",
      "source": [
        "val=[0,1,2]\n",
        "val.insert(0,1)\n",
        "del val[1]\n",
        "print(val)\n",
        "print(sum(val))"
      ],
      "metadata": {
        "colab": {
          "base_uri": "https://localhost:8080/"
        },
        "id": "pigHgvuxiel6",
        "outputId": "dc2f144c-45ba-4aa1-fb46-860df122e1ee"
      },
      "execution_count": null,
      "outputs": [
        {
          "output_type": "stream",
          "name": "stdout",
          "text": [
            "[1, 1, 2]\n",
            "4\n"
          ]
        }
      ]
    },
    {
      "cell_type": "code",
      "source": [
        "n=[1,2,3]\n",
        "val=n\n",
        "del val[1:2]\n",
        "print(val,n)"
      ],
      "metadata": {
        "colab": {
          "base_uri": "https://localhost:8080/"
        },
        "id": "lDKeqQexi-7U",
        "outputId": "6853e93e-cb1d-4f53-d86f-808eea425776"
      },
      "execution_count": null,
      "outputs": [
        {
          "output_type": "stream",
          "name": "stdout",
          "text": [
            "[1, 3] [1, 3]\n"
          ]
        }
      ]
    },
    {
      "cell_type": "code",
      "source": [
        "l=[1,2,3]\n",
        "l2=[]\n",
        "for v in l:\n",
        "  l2.insert(0,v)#se corren los items\n",
        "print(l2)"
      ],
      "metadata": {
        "colab": {
          "base_uri": "https://localhost:8080/"
        },
        "id": "clUK1dpSjWhT",
        "outputId": "7b0e0e28-377d-426a-b8d0-6839e1f63994"
      },
      "execution_count": null,
      "outputs": [
        {
          "output_type": "stream",
          "name": "stdout",
          "text": [
            "[3, 2, 1]\n"
          ]
        }
      ]
    },
    {
      "cell_type": "code",
      "source": [
        "lst=[i for i in range(-1,2)]\n",
        "print(lst)"
      ],
      "metadata": {
        "colab": {
          "base_uri": "https://localhost:8080/"
        },
        "id": "IRFtdR8RjsZN",
        "outputId": "3951be67-42f7-4a6b-80ad-a5487d85e8ad"
      },
      "execution_count": null,
      "outputs": [
        {
          "output_type": "stream",
          "name": "stdout",
          "text": [
            "[-1, 0, 1]\n"
          ]
        }
      ]
    },
    {
      "cell_type": "code",
      "source": [
        "t=[[3-i for i in range(3)]for j in range(3)]\n",
        "s=0\n",
        "for i in range(3):\n",
        "  s+=t[i][i]\n",
        "\n",
        "print(s)"
      ],
      "metadata": {
        "colab": {
          "base_uri": "https://localhost:8080/"
        },
        "id": "Pyx4nYqDkN5_",
        "outputId": "12eb4cd3-85d5-4bdc-a0c0-ad47043feedd"
      },
      "execution_count": null,
      "outputs": [
        {
          "output_type": "stream",
          "name": "stdout",
          "text": [
            "6\n"
          ]
        }
      ]
    },
    {
      "cell_type": "code",
      "source": [
        "lst=[[0,1,2,3] for i in range(2)]\n",
        "print(lst[2][0])"
      ],
      "metadata": {
        "colab": {
          "base_uri": "https://localhost:8080/"
        },
        "id": "qr1i85a-kw7Q",
        "outputId": "926519a1-cb48-4a88-f831-ddfd3998ecd2"
      },
      "execution_count": null,
      "outputs": [
        {
          "output_type": "stream",
          "name": "stdout",
          "text": [
            "0\n"
          ]
        }
      ]
    },
    {
      "cell_type": "markdown",
      "source": [
        "# Objetivos\n",
        "Familiarizar al estudiante con:\n",
        "\n",
        "Proyectar y escribir funciones parametrizadas.\n",
        "Utilizar la instrucción return.\n",
        "Utilizar las funciones propias del estudiante.\n",
        "# Escenario\n",
        "---\n",
        "Tu tarea es escribir y probar una función que toma dos argumentos (un año y un mes) y devuelve el número de días del mes/año dado (mientras que solo febrero es sensible al valor year, tu función debería ser universal).\n",
        "\n",
        "---\n",
        "\n",
        "La parte inicial de la función está lista. Ahora, haz que la función devuelva None si los argumentos no tienen sentido.\n",
        "\n",
        "Por supuesto, puedes (y debes) utilizar la función previamente escrita y probada (LABORATORIO 4.1.3.6). Puede ser muy útil. Te recomendamos que utilices una lista con los meses. Puedes crearla dentro de la función; este truco acortará significativamente el código.\n"
      ],
      "metadata": {
        "id": "IR1ZijFVGLnq"
      }
    },
    {
      "cell_type": "code",
      "source": [
        "def is_year_leap(year):\n",
        "    if year % 4 == 0 and (year % 100 != 0 or year % 400 == 0):return True\n",
        "    else: return False\n",
        "\n",
        "\n",
        "def days_in_month(year, month):\n",
        "  datos= {1:31,2:28,3:31,4:30,5:31,6:30,7:31,8:31,9:30,10:31,11:30,12:31}\n",
        "  if month<1 or month >12:\n",
        "    return None\n",
        "  else:\n",
        "    if is_year_leap(year) and month==2 :\n",
        "      return 29\n",
        "    else:\n",
        "      return datos[month]\n",
        "\n",
        "test_years = [1900, 2000, 2016, 1987,2024]\n",
        "test_months = [2, 2, 2, 11,13]\n",
        "test_results = [28, 29, 29, 30,None]\n",
        "for i in range(len(test_years)):\n",
        "\tyr = test_years[i]\n",
        "\tmo = test_months[i]\n",
        "\tprint(yr, mo, \"->\", end=\"\")\n",
        "\tresult = days_in_month(yr, mo)\n",
        "\tif result == test_results[i]:\n",
        "\t\tprint(\"OK\")\n",
        "\telse:\n",
        "\t\tprint(\"Fallido\")\n"
      ],
      "metadata": {
        "colab": {
          "base_uri": "https://localhost:8080/"
        },
        "id": "W8je5VDiGRMm",
        "outputId": "313a6416-a75d-495d-bc3b-21a2ece9d6c6"
      },
      "execution_count": 3,
      "outputs": [
        {
          "output_type": "stream",
          "name": "stdout",
          "text": [
            "1900 2 ->OK\n",
            "2000 2 ->OK\n",
            "2016 2 ->OK\n",
            "1987 11 ->OK\n",
            "2024 13 ->OK\n"
          ]
        }
      ]
    },
    {
      "cell_type": "code",
      "source": [
        "from calendar import monthrange\n",
        "\n",
        "def days_in_month(year, month):\n",
        "    return monthrange(year, month)[1]\n",
        "\n",
        "year = int (input(\"Escribe un año: \"))\n",
        "month = int (input(\"Escribe un mes: \"))\n",
        "days_in_month(year, month)\n",
        "print(days_in_month(year, month))\n",
        "test_years = [1900, 2000, 2016, 1987]\n",
        "test_months = [2, 2, 1, 11]\n",
        "test_results = [28, 29, 31, 30]\n",
        "for i in range(len(test_years)):\n",
        "\tyr = test_years[i]\n",
        "\tmo = test_months[i]\n",
        "\tprint(yr, mo, \"->\", end=\"\")\n",
        "\tresult = days_in_month(yr, mo)\n",
        "\tif result == test_results[i]:\n",
        "\t\tprint(\"OK\")\n",
        "\telse:\n",
        "\t\tprint(\"Fallido\")"
      ],
      "metadata": {
        "colab": {
          "base_uri": "https://localhost:8080/"
        },
        "id": "r3zmDBcFREbN",
        "outputId": "7d7a4a53-18b2-4b1b-a7b0-8dde7a60093f"
      },
      "execution_count": null,
      "outputs": [
        {
          "output_type": "stream",
          "name": "stdout",
          "text": [
            "Escribe un año: 2024\n",
            "Escribe un mes: 2\n",
            "29\n",
            "1900 2 ->OK\n",
            "2000 2 ->OK\n",
            "2016 1 ->OK\n",
            "1987 11 ->OK\n"
          ]
        }
      ]
    },
    {
      "cell_type": "code",
      "source": [
        "#ejercicio fechas\n",
        "\n",
        "def is_year_leap(year):\n",
        "     if year % 4 == 0 and (year % 100 != 0 or year % 400 == 0):return True\n",
        "     else: return False\n",
        "    \n",
        "\n",
        "mes = {1: \"Enero\",\n",
        "       2: \"Febrero\", \n",
        "       3: \"Marzo\", \n",
        "       4: \"Abril\", \n",
        "       5: \"Mayo\", \n",
        "       6: \"Junio\", \n",
        "       7: \"Julio\", \n",
        "       8: \"Agosto\", \n",
        "       9: \"Septiembre\", \n",
        "       10: \"Octubre\", \n",
        "       11: \"Noviembre\", \n",
        "       12: \"Diciembre\"}\n",
        "\n",
        "\n",
        "def days_in_month(year, month):\n",
        "    datos = {1: 31,\n",
        "             2: 28, \n",
        "             3: 31, \n",
        "             4: 30, \n",
        "             5: 31, \n",
        "             6: 30,\n",
        "             7: 31, \n",
        "             8: 31, \n",
        "             9: 30, \n",
        "             10: 31, \n",
        "             11: 30, \n",
        "             12: 31}\n",
        "    if month < 1 or month > 12:\n",
        "        return None\n",
        "    else:\n",
        "        if is_year_leap(year) and month == 2:\n",
        "            return 29\n",
        "        else:\n",
        "            return datos[month]\n",
        "\n",
        "\n",
        "def day_of_year(year, month, day):\n",
        "    if days_in_month(year, month) == None:\n",
        "        return None\n",
        "    else:\n",
        "        if day > days_in_month(year, month):\n",
        "            return None\n",
        "        else:\n",
        "            diasmes = days_in_month(year, month)\n",
        "            NTotaldias = 0\n",
        "            for i in range(1, month):\n",
        "                NTotaldias += days_in_month(year, i)\n",
        "            NTotaldias += day\n",
        "            return '\\n\\nEl mes de ({} No.{}) del año {} tiene {} días \\nY el día {} es el día {} del año'.format(mes[month], month, year, diasmes, day, NTotaldias)\n",
        "\n",
        "\n",
        "values=[]\n",
        "data=['año','mes','dia']\n",
        "for i in range(3):\n",
        "    values.append(int(input('Ingrese el valor {}: '.format(data[i]))))\n",
        "\n",
        "print('\\n\\n',values)\n",
        "\n",
        "print(day_of_year(values[0], values[1], values[2]))\n"
      ],
      "metadata": {
        "id": "YjREIZ5vBCrN",
        "outputId": "36fcb7e1-c870-4211-fa02-62c9a0c1225c",
        "colab": {
          "base_uri": "https://localhost:8080/"
        }
      },
      "execution_count": 7,
      "outputs": [
        {
          "output_type": "stream",
          "name": "stdout",
          "text": [
            "Ingrese el valor año: 2022\n",
            "Ingrese el valor mes: 12\n",
            "Ingrese el valor dia: 31\n",
            "\n",
            "\n",
            " [2022, 12, 31]\n",
            "\n",
            "\n",
            "El mes de (Diciembre No.12) del año 2022 tiene 31 días \n",
            "Y el día 31 es el día 365 del año\n"
          ]
        }
      ]
    }
  ],
  "metadata": {
    "colab": {
      "provenance": [],
      "collapsed_sections": [],
      "include_colab_link": true
    },
    "kernelspec": {
      "display_name": "Python 3",
      "name": "python3"
    },
    "language_info": {
      "name": "python"
    }
  },
  "nbformat": 4,
  "nbformat_minor": 0
}