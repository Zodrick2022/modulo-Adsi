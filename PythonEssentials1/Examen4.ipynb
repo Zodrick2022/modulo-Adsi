{
 "cells": [
  {
   "cell_type": "code",
   "execution_count": 1,
   "metadata": {},
   "outputs": [
    {
     "ename": "SyntaxError",
     "evalue": "invalid syntax (3649687033.py, line 2)",
     "output_type": "error",
     "traceback": [
      "\u001b[1;36m  Cell \u001b[1;32mIn [1], line 2\u001b[1;36m\u001b[0m\n\u001b[1;33m    return x + 2 y + 3 * z\u001b[0m\n\u001b[1;37m                 ^\u001b[0m\n\u001b[1;31mSyntaxError\u001b[0m\u001b[1;31m:\u001b[0m invalid syntax\n"
     ]
    }
   ],
   "source": [
    "def fun (x, y, z):\n",
    "    return x + 2 y + 3 * z\n",
    "\n",
    "print (fun (0, z=1, y=3))"
   ]
  },
  {
   "cell_type": "code",
   "execution_count": 3,
   "metadata": {},
   "outputs": [
    {
     "ename": "TypeError",
     "evalue": "unsupported operand type(s) for +: 'NoneType' and 'int'",
     "output_type": "error",
     "traceback": [
      "\u001b[0;31m---------------------------------------------------------------------------\u001b[0m",
      "\u001b[0;31mTypeError\u001b[0m                                 Traceback (most recent call last)",
      "\u001b[1;32m/home/luis-fer/Desktop/programacion Enlace/coding/CiscoPythonADSI/Examen4.ipynb Celda 2\u001b[0m in \u001b[0;36m<cell line: 7>\u001b[0;34m()\u001b[0m\n\u001b[1;32m      <a href='vscode-notebook-cell:/home/luis-fer/Desktop/programacion%20Enlace/coding/CiscoPythonADSI/Examen4.ipynb#W1sZmlsZQ%3D%3D?line=3'>4</a>\u001b[0m     \u001b[39melse\u001b[39;00m:\n\u001b[1;32m      <a href='vscode-notebook-cell:/home/luis-fer/Desktop/programacion%20Enlace/coding/CiscoPythonADSI/Examen4.ipynb#W1sZmlsZQ%3D%3D?line=4'>5</a>\u001b[0m         \u001b[39mreturn\u001b[39;00m\n\u001b[0;32m----> <a href='vscode-notebook-cell:/home/luis-fer/Desktop/programacion%20Enlace/coding/CiscoPythonADSI/Examen4.ipynb#W1sZmlsZQ%3D%3D?line=6'>7</a>\u001b[0m \u001b[39mprint\u001b[39m(fun (fun (\u001b[39m2\u001b[39;49m)) \u001b[39m+\u001b[39;49m \u001b[39m1\u001b[39;49m)\n",
      "\u001b[0;31mTypeError\u001b[0m: unsupported operand type(s) for +: 'NoneType' and 'int'"
     ]
    }
   ],
   "source": [
    "def fun(x): \n",
    "    if x % 2 == 0:\n",
    "        return 1\n",
    "    else:\n",
    "        return\n",
    "\n",
    "print(fun (fun (2)) + 1)"
   ]
  },
  {
   "cell_type": "code",
   "execution_count": 2,
   "metadata": {},
   "outputs": [
    {
     "name": "stdout",
     "output_type": "stream",
     "text": [
      "Entrada muy errónea...\n"
     ]
    }
   ],
   "source": [
    "try:\n",
    "    value = input (\"Ingresa un valor: \") \n",
    "    print (value/value)\n",
    "except ValueError:\n",
    "    print(\"Entrada incorrecta...\")\n",
    "except ZeroDivisionError:\n",
    "    print(\"Entrada errónea...\")\n",
    "except TypeError:\n",
    "    print(\"Entrada muy errónea...\")\n",
    "except:\n",
    "    print(\"¡Buuu!\")"
   ]
  },
  {
   "cell_type": "code",
   "execution_count": 3,
   "metadata": {},
   "outputs": [
    {
     "name": "stdout",
     "output_type": "stream",
     "text": [
      "4\n"
     ]
    }
   ],
   "source": [
    "def fun (inp=2, out=3): \n",
    "    return inp * out\n",
    "    \n",
    "print(fun (out=2))"
   ]
  },
  {
   "cell_type": "code",
   "execution_count": 7,
   "metadata": {},
   "outputs": [
    {
     "name": "stdout",
     "output_type": "stream",
     "text": [
      "4\n"
     ]
    }
   ],
   "source": [
    "def fun(x): \n",
    "    global y\n",
    "    y = x * x \n",
    "    return y\n",
    "    \n",
    "fun (2) \n",
    "print(y)"
   ]
  },
  {
   "cell_type": "code",
   "execution_count": 8,
   "metadata": {},
   "outputs": [
    {
     "ename": "TypeError",
     "evalue": "func() missing 1 required positional argument: 'b'",
     "output_type": "error",
     "traceback": [
      "\u001b[0;31m---------------------------------------------------------------------------\u001b[0m",
      "\u001b[0;31mTypeError\u001b[0m                                 Traceback (most recent call last)",
      "\u001b[1;32m/home/luis-fer/Desktop/programacion Enlace/coding/CiscoPythonADSI/Examen4.ipynb Celda 6\u001b[0m in \u001b[0;36m<cell line: 4>\u001b[0;34m()\u001b[0m\n\u001b[1;32m      <a href='vscode-notebook-cell:/home/luis-fer/Desktop/programacion%20Enlace/coding/CiscoPythonADSI/Examen4.ipynb#W5sZmlsZQ%3D%3D?line=0'>1</a>\u001b[0m \u001b[39mdef\u001b[39;00m \u001b[39mfunc\u001b[39m(a, b): \n\u001b[1;32m      <a href='vscode-notebook-cell:/home/luis-fer/Desktop/programacion%20Enlace/coding/CiscoPythonADSI/Examen4.ipynb#W5sZmlsZQ%3D%3D?line=1'>2</a>\u001b[0m     \u001b[39mreturn\u001b[39;00m a \u001b[39m*\u001b[39m\u001b[39m*\u001b[39m a\n\u001b[0;32m----> <a href='vscode-notebook-cell:/home/luis-fer/Desktop/programacion%20Enlace/coding/CiscoPythonADSI/Examen4.ipynb#W5sZmlsZQ%3D%3D?line=3'>4</a>\u001b[0m \u001b[39mprint\u001b[39m (func(\u001b[39m2\u001b[39;49m))\n",
      "\u001b[0;31mTypeError\u001b[0m: func() missing 1 required positional argument: 'b'"
     ]
    }
   ],
   "source": [
    "def func(a, b): \n",
    "    return a ** a\n",
    "    \n",
    "print (func(2))"
   ]
  },
  {
   "cell_type": "code",
   "execution_count": 11,
   "metadata": {},
   "outputs": [
    {
     "name": "stdout",
     "output_type": "stream",
     "text": [
      "a\n",
      "b\n",
      "c\n"
     ]
    }
   ],
   "source": [
    "dictionary = {}\n",
    "my_list = ['a', 'b', 'c', 'd']\n",
    "for i in range (len (my_list) - 1): \n",
    "    dictionary [my_list[i]] = (my_list[i], )\n",
    "\n",
    "for i in sorted (dictionary.keys()): \n",
    "    k = dictionary[i]\n",
    "    print(k[0])"
   ]
  },
  {
   "cell_type": "code",
   "execution_count": 12,
   "metadata": {},
   "outputs": [
    {
     "name": "stdout",
     "output_type": "stream",
     "text": [
      "two\n"
     ]
    }
   ],
   "source": [
    "dictionary = {'one': 'two', 'three': 'one', 'two': 'three' }\n",
    "v = dictionary['one']\n",
    "for k in range (len (dictionary)): \n",
    "    v = dictionary[v]\n",
    "print (v)"
   ]
  },
  {
   "cell_type": "code",
   "execution_count": 13,
   "metadata": {},
   "outputs": [
    {
     "name": "stdout",
     "output_type": "stream",
     "text": [
      "21\n"
     ]
    }
   ],
   "source": [
    "def any():\n",
    "    print(var + 1, end='')\n",
    "var = 1 \n",
    "any () \n",
    "print (var)"
   ]
  },
  {
   "cell_type": "code",
   "execution_count": 14,
   "metadata": {},
   "outputs": [
    {
     "name": "stdout",
     "output_type": "stream",
     "text": [
      "3\n"
     ]
    }
   ],
   "source": [
    "def fun(x): \n",
    "    x + 1 \n",
    "    return x\n",
    "x = 2\n",
    "x = fun(x + 1) \n",
    "print (x)"
   ]
  },
  {
   "cell_type": "code",
   "execution_count": 15,
   "metadata": {},
   "outputs": [
    {
     "name": "stdout",
     "output_type": "stream",
     "text": [
      "2\n"
     ]
    }
   ],
   "source": [
    "tup = (1, 2, 4, 8)\n",
    "tup = tup[1:-1]\n",
    "tup = tup[0] \n",
    "print (tup)"
   ]
  },
  {
   "cell_type": "code",
   "execution_count": 16,
   "metadata": {},
   "outputs": [
    {
     "name": "stdout",
     "output_type": "stream",
     "text": [
      "16\n"
     ]
    }
   ],
   "source": [
    "def func_1(a): \n",
    "    return a ** a\n",
    "\n",
    "def func_2(a):\n",
    "    return func_1(a) * func_1(a)\n",
    "\n",
    "print (func_2(2))"
   ]
  },
  {
   "cell_type": "code",
   "execution_count": 17,
   "metadata": {},
   "outputs": [
    {
     "name": "stdout",
     "output_type": "stream",
     "text": [
      "6\n"
     ]
    }
   ],
   "source": [
    "def f(x): \n",
    "    if x == 0:\n",
    "        return 0\n",
    "    return x + f(x - 1)\n",
    "print (f(3))"
   ]
  },
  {
   "cell_type": "code",
   "execution_count": 19,
   "metadata": {},
   "outputs": [
    {
     "ename": "TypeError",
     "evalue": "'function' object does not support item deletion",
     "output_type": "error",
     "traceback": [
      "\u001b[0;31m---------------------------------------------------------------------------\u001b[0m",
      "\u001b[0;31mTypeError\u001b[0m                                 Traceback (most recent call last)",
      "\u001b[1;32m/home/luis-fer/Desktop/programacion Enlace/coding/CiscoPythonADSI/Examen4.ipynb Celda 14\u001b[0m in \u001b[0;36m<cell line: 7>\u001b[0;34m()\u001b[0m\n\u001b[1;32m      <a href='vscode-notebook-cell:/home/luis-fer/Desktop/programacion%20Enlace/coding/CiscoPythonADSI/Examen4.ipynb#X16sZmlsZQ%3D%3D?line=3'>4</a>\u001b[0m     \u001b[39mdel\u001b[39;00m my_list[\u001b[39m3\u001b[39m] \n\u001b[1;32m      <a href='vscode-notebook-cell:/home/luis-fer/Desktop/programacion%20Enlace/coding/CiscoPythonADSI/Examen4.ipynb#X16sZmlsZQ%3D%3D?line=4'>5</a>\u001b[0m     my_list[\u001b[39m3\u001b[39m]\u001b[39m=\u001b[39m \u001b[39m'\u001b[39m\u001b[39mram\u001b[39m\u001b[39m'\u001b[39m\n\u001b[0;32m----> <a href='vscode-notebook-cell:/home/luis-fer/Desktop/programacion%20Enlace/coding/CiscoPythonADSI/Examen4.ipynb#X16sZmlsZQ%3D%3D?line=6'>7</a>\u001b[0m \u001b[39mprint\u001b[39m (my_list(my_list))\n",
      "\u001b[1;32m/home/luis-fer/Desktop/programacion Enlace/coding/CiscoPythonADSI/Examen4.ipynb Celda 14\u001b[0m in \u001b[0;36mmy_list\u001b[0;34m(my_list)\u001b[0m\n\u001b[1;32m      <a href='vscode-notebook-cell:/home/luis-fer/Desktop/programacion%20Enlace/coding/CiscoPythonADSI/Examen4.ipynb#X16sZmlsZQ%3D%3D?line=2'>3</a>\u001b[0m \u001b[39mdef\u001b[39;00m \u001b[39mmy_list\u001b[39m(my_list):\n\u001b[0;32m----> <a href='vscode-notebook-cell:/home/luis-fer/Desktop/programacion%20Enlace/coding/CiscoPythonADSI/Examen4.ipynb#X16sZmlsZQ%3D%3D?line=3'>4</a>\u001b[0m     \u001b[39mdel\u001b[39;00m my_list[\u001b[39m3\u001b[39m] \n\u001b[1;32m      <a href='vscode-notebook-cell:/home/luis-fer/Desktop/programacion%20Enlace/coding/CiscoPythonADSI/Examen4.ipynb#X16sZmlsZQ%3D%3D?line=4'>5</a>\u001b[0m     my_list[\u001b[39m3\u001b[39m]\u001b[39m=\u001b[39m \u001b[39m'\u001b[39m\u001b[39mram\u001b[39m\u001b[39m'\u001b[39m\n",
      "\u001b[0;31mTypeError\u001b[0m: 'function' object does not support item deletion"
     ]
    }
   ],
   "source": [
    "my_list =['Mary', 'had', 'a', 'little', 'lamb' ]\n",
    "\n",
    "def my_list(my_list):\n",
    "    del my_list[3] \n",
    "    my_list[3]= 'ram'\n",
    "\n",
    "print (my_list(my_list))"
   ]
  }
 ],
 "metadata": {
  "kernelspec": {
   "display_name": "Python 3.10.7 64-bit",
   "language": "python",
   "name": "python3"
  },
  "language_info": {
   "codemirror_mode": {
    "name": "ipython",
    "version": 3
   },
   "file_extension": ".py",
   "mimetype": "text/x-python",
   "name": "python",
   "nbconvert_exporter": "python",
   "pygments_lexer": "ipython3",
   "version": "3.10.7"
  },
  "orig_nbformat": 4,
  "vscode": {
   "interpreter": {
    "hash": "517610d243745608059699b3a823bb813ac8871a0543351768afd7726f52dfec"
   }
  }
 },
 "nbformat": 4,
 "nbformat_minor": 2
}
