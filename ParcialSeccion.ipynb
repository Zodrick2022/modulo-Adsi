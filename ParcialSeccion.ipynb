{
 "cells": [
  {
   "cell_type": "markdown",
   "metadata": {},
   "source": [
    "# Parcial Seccion "
   ]
  },
  {
   "cell_type": "code",
   "execution_count": 1,
   "metadata": {},
   "outputs": [
    {
     "name": "stdout",
     "output_type": "stream",
     "text": [
      "0.2\n"
     ]
    }
   ],
   "source": [
    "x= 1 // 5 + 1/5\n",
    "print (x)"
   ]
  },
  {
   "cell_type": "code",
   "execution_count": 2,
   "metadata": {},
   "outputs": [
    {
     "name": "stdout",
     "output_type": "stream",
     "text": [
      "63\n"
     ]
    }
   ],
   "source": [
    "y = input () \n",
    "x = input() \n",
    "print (x + y)"
   ]
  },
  {
   "cell_type": "code",
   "execution_count": 3,
   "metadata": {},
   "outputs": [
    {
     "name": "stdout",
     "output_type": "stream",
     "text": [
      "2\n"
     ]
    }
   ],
   "source": [
    "def fun(x):\n",
    "    if x % 2 == 0:\n",
    "        return 1\n",
    "    else:\n",
    "        return 2\n",
    "print (fun(fun (2)))"
   ]
  },
  {
   "cell_type": "code",
   "execution_count": 4,
   "metadata": {},
   "outputs": [
    {
     "name": "stdout",
     "output_type": "stream",
     "text": [
      "[1, 1, 1, 2]\n"
     ]
    }
   ],
   "source": [
    "my_list=[1, 2]\n",
    "for v in range (2):\n",
    "    my_list.insert(-1, my_list[v])\n",
    "    \n",
    "print (my_list)"
   ]
  },
  {
   "cell_type": "code",
   "execution_count": 5,
   "metadata": {},
   "outputs": [
    {
     "name": "stdout",
     "output_type": "stream",
     "text": [
      "#\n",
      "#\n",
      "#\n"
     ]
    }
   ],
   "source": [
    "lst = [[x for x in range(3)] for y in range(3)]\n",
    "for r in range(3):\n",
    "    for c in range(3):\n",
    "        if lst [r][c] % 2 != 0: \n",
    "            print(\"#\")"
   ]
  },
  {
   "cell_type": "code",
   "execution_count": null,
   "metadata": {},
   "outputs": [],
   "source": [
    "#¿Cuántos (*) imprimirá el siguiente fragmento de código en la consola?\n",
    "i = 0\n",
    "while i<i + 2 :\n",
    "    i += 1\n",
    "    print(\"*\")\n",
    "else:\n",
    "    print(\"*\")"
   ]
  },
  {
   "cell_type": "code",
   "execution_count": 7,
   "metadata": {},
   "outputs": [
    {
     "data": {
      "text/plain": [
       "0"
      ]
     },
     "execution_count": 7,
     "metadata": {},
     "output_type": "execute_result"
    }
   ],
   "source": [
    "#El resultado de la siguiente división:\n",
    "1 // 2"
   ]
  },
  {
   "cell_type": "code",
   "execution_count": 8,
   "metadata": {},
   "outputs": [
    {
     "name": "stdout",
     "output_type": "stream",
     "text": [
      "one\n"
     ]
    }
   ],
   "source": [
    "# ¿Cuál es el resultado del siguiente fragmento de código?\n",
    "dct = {'one': 'two', 'three': 'one', 'two': 'three'} \n",
    "v = dct['three']\n",
    "for k in range(len(dct)):\n",
    "    v = dct[v]\n",
    "\n",
    "print (v)"
   ]
  },
  {
   "cell_type": "code",
   "execution_count": 9,
   "metadata": {},
   "outputs": [
    {
     "name": "stdout",
     "output_type": "stream",
     "text": [
      "[0, 1, 4, 9]\n"
     ]
    }
   ],
   "source": [
    "#¿Cuál es el resultado del siguiente fragmento de código?\n",
    "\n",
    "my_list = [x * x for x in range (5)]\n",
    "def fun(lst):\n",
    "    del lst[lst [2]] \n",
    "    return lst\n",
    "\n",
    "print (fun (my_list))"
   ]
  },
  {
   "cell_type": "code",
   "execution_count": 10,
   "metadata": {},
   "outputs": [
    {
     "name": "stdout",
     "output_type": "stream",
     "text": [
      "True\n"
     ]
    }
   ],
   "source": [
    "# ¿Qué valor se asignará a la variable x?\n",
    "\n",
    "z = 0\n",
    "y = 10\n",
    "x = y < z and z> y or y> z and z < y\n",
    "print(x)"
   ]
  },
  {
   "cell_type": "code",
   "execution_count": 11,
   "metadata": {},
   "outputs": [
    {
     "ename": "AttributeError",
     "evalue": "'dict' object has no attribute 'vals'",
     "output_type": "error",
     "traceback": [
      "\u001b[0;31m---------------------------------------------------------------------------\u001b[0m",
      "\u001b[0;31mAttributeError\u001b[0m                            Traceback (most recent call last)",
      "\u001b[1;32m/media/luis-fer/User Data/Docx y archivos/programacion/coding/CiscoPythonADSI/ParcialSeccion.ipynb Celda 12\u001b[0m in \u001b[0;36m<cell line: 4>\u001b[0;34m()\u001b[0m\n\u001b[1;32m      <a href='vscode-notebook-cell:/media/luis-fer/User%20Data/Docx%20y%20archivos/programacion/coding/CiscoPythonADSI/ParcialSeccion.ipynb#X14sZmlsZQ%3D%3D?line=0'>1</a>\u001b[0m \u001b[39m#¿Cuál es el resultado del siguiente fragmento de código?\u001b[39;00m\n\u001b[1;32m      <a href='vscode-notebook-cell:/media/luis-fer/User%20Data/Docx%20y%20archivos/programacion/coding/CiscoPythonADSI/ParcialSeccion.ipynb#X14sZmlsZQ%3D%3D?line=2'>3</a>\u001b[0m dd \u001b[39m=\u001b[39m {\u001b[39m\"\u001b[39m\u001b[39m1\u001b[39m\u001b[39m\"\u001b[39m: \u001b[39m\"\u001b[39m\u001b[39m0\u001b[39m\u001b[39m\"\u001b[39m, \u001b[39m\"\u001b[39m\u001b[39m0\u001b[39m\u001b[39m\"\u001b[39m: \u001b[39m\"\u001b[39m\u001b[39m1\u001b[39m\u001b[39m\"\u001b[39m} \n\u001b[0;32m----> <a href='vscode-notebook-cell:/media/luis-fer/User%20Data/Docx%20y%20archivos/programacion/coding/CiscoPythonADSI/ParcialSeccion.ipynb#X14sZmlsZQ%3D%3D?line=3'>4</a>\u001b[0m \u001b[39mfor\u001b[39;00m x \u001b[39min\u001b[39;00m dd\u001b[39m.\u001b[39;49mvals():\n\u001b[1;32m      <a href='vscode-notebook-cell:/media/luis-fer/User%20Data/Docx%20y%20archivos/programacion/coding/CiscoPythonADSI/ParcialSeccion.ipynb#X14sZmlsZQ%3D%3D?line=4'>5</a>\u001b[0m     \u001b[39mprint\u001b[39m(x, end\u001b[39m=\u001b[39m\u001b[39m\"\u001b[39m\u001b[39m\"\u001b[39m)\n",
      "\u001b[0;31mAttributeError\u001b[0m: 'dict' object has no attribute 'vals'"
     ]
    }
   ],
   "source": [
    "#¿Cuál es el resultado del siguiente fragmento de código?\n",
    "\n",
    "dd = {\"1\": \"0\", \"0\": \"1\"} \n",
    "for x in dd.vals():\n",
    "    print(x, end=\"\")"
   ]
  },
  {
   "cell_type": "code",
   "execution_count": 12,
   "metadata": {},
   "outputs": [
    {
     "name": "stdout",
     "output_type": "stream",
     "text": [
      "0.0\n"
     ]
    }
   ],
   "source": [
    "#¿Cuál es la salida del siguiente código si el usuario ingresa un 0 ?\n",
    "try:\n",
    "    value=input(\"Ingresa un valor: \") \n",
    "    print (int (value)/len(value)) \n",
    "except ValueError:\n",
    "    print(\"Entrada incorrecta...\")\n",
    "except ZeroDivisionError:\n",
    "    print(\"Entrada errónea...\")\n",
    "except TypeError:\n",
    "    print(\"Entrada muy errónea...\")\n",
    "except:\n",
    "    print(\"¡Buuu!\")"
   ]
  },
  {
   "cell_type": "code",
   "execution_count": 13,
   "metadata": {},
   "outputs": [
    {
     "name": "stdout",
     "output_type": "stream",
     "text": [
      "0\n"
     ]
    }
   ],
   "source": [
    "#¿Cuál es la salida del siguiente código si el usuario ingresa dos líneas que contienen 3 y 2 respectivamente?\n",
    "\n",
    "x = int(input()) \n",
    "y = int(input())\n",
    "x = x % y\n",
    "x = x % y\n",
    "y = y % x\n",
    "print (y)"
   ]
  },
  {
   "cell_type": "code",
   "execution_count": 15,
   "metadata": {},
   "outputs": [
    {
     "name": "stdout",
     "output_type": "stream",
     "text": [
      "4\n"
     ]
    }
   ],
   "source": [
    "#¿Cuál es el resultado del siguiente fragmento de código?\n",
    "tup= (1, 2, 4, 8) \n",
    "tup=tup[-2:-1]\n",
    "tup = tup[-1] \n",
    "print (tup)"
   ]
  },
  {
   "cell_type": "code",
   "execution_count": 16,
   "metadata": {},
   "outputs": [],
   "source": [
    "#Observa el fragmento de código y elige la sentencia verdadera:\n",
    "nums = [1, 2, 3]\n",
    "vals = nums\n",
    "del vals[:]"
   ]
  },
  {
   "cell_type": "code",
   "execution_count": 18,
   "metadata": {},
   "outputs": [
    {
     "name": "stdout",
     "output_type": "stream",
     "text": [
      "0\n"
     ]
    }
   ],
   "source": [
    "# ¿Cuál es el resultado del siguiente fragmento de código?\n",
    "def fun(x, y): \n",
    "    if x == y:\n",
    "        return x\n",
    "    else:\n",
    "        return fun(x, y-1)\n",
    "        \n",
    "print(fun (0, 3))"
   ]
  },
  {
   "cell_type": "code",
   "execution_count": 19,
   "metadata": {},
   "outputs": [
    {
     "name": "stdout",
     "output_type": "stream",
     "text": [
      "0\n"
     ]
    }
   ],
   "source": [
    "#¿Cuántos elementos contiene la lista lst ?\n",
    "lst = [i for i in range(-1, -2)]\n",
    "print(len(lst))"
   ]
  },
  {
   "cell_type": "code",
   "execution_count": 20,
   "metadata": {},
   "outputs": [
    {
     "ename": "SyntaxError",
     "evalue": "invalid character in identifier (3281235011.py, line 2)",
     "output_type": "error",
     "traceback": [
      "\u001b[0;36m  Input \u001b[0;32mIn [20]\u001b[0;36m\u001b[0m\n\u001b[0;31m    print (¡Hola, Mundo!)\u001b[0m\n\u001b[0m               ^\u001b[0m\n\u001b[0;31mSyntaxError\u001b[0m\u001b[0;31m:\u001b[0m invalid character in identifier\n"
     ]
    }
   ],
   "source": [
    "#¿Qué pasará cuando intentes ejecutar el siguiente código?\n",
    "print (¡Hola, Mundo!)"
   ]
  },
  {
   "cell_type": "code",
   "execution_count": 21,
   "metadata": {},
   "outputs": [
    {
     "ename": "ValueError",
     "evalue": "tuple.index(x): x not in tuple",
     "output_type": "error",
     "traceback": [
      "\u001b[0;31m---------------------------------------------------------------------------\u001b[0m",
      "\u001b[0;31mValueError\u001b[0m                                Traceback (most recent call last)",
      "\u001b[1;32m/media/luis-fer/User Data/Docx y archivos/programacion/coding/CiscoPythonADSI/ParcialSeccion.ipynb Celda 20\u001b[0m in \u001b[0;36m<cell line: 3>\u001b[0;34m()\u001b[0m\n\u001b[1;32m      <a href='vscode-notebook-cell:/media/luis-fer/User%20Data/Docx%20y%20archivos/programacion/coding/CiscoPythonADSI/ParcialSeccion.ipynb#X25sZmlsZQ%3D%3D?line=0'>1</a>\u001b[0m \u001b[39m#¿Cuál es el comportamiento esperado del siguiente programa?\u001b[39;00m\n\u001b[1;32m      <a href='vscode-notebook-cell:/media/luis-fer/User%20Data/Docx%20y%20archivos/programacion/coding/CiscoPythonADSI/ParcialSeccion.ipynb#X25sZmlsZQ%3D%3D?line=1'>2</a>\u001b[0m foo \u001b[39m=\u001b[39m (\u001b[39m1\u001b[39m, \u001b[39m2\u001b[39m, \u001b[39m3\u001b[39m) \n\u001b[0;32m----> <a href='vscode-notebook-cell:/media/luis-fer/User%20Data/Docx%20y%20archivos/programacion/coding/CiscoPythonADSI/ParcialSeccion.ipynb#X25sZmlsZQ%3D%3D?line=2'>3</a>\u001b[0m foo\u001b[39m.\u001b[39;49mindex(\u001b[39m0\u001b[39;49m)\n",
      "\u001b[0;31mValueError\u001b[0m: tuple.index(x): x not in tuple"
     ]
    }
   ],
   "source": [
    "#¿Cuál es el comportamiento esperado del siguiente programa?\n",
    "foo = (1, 2, 3) \n",
    "foo.index(0)"
   ]
  },
  {
   "cell_type": "code",
   "execution_count": 22,
   "metadata": {},
   "outputs": [
    {
     "name": "stdout",
     "output_type": "stream",
     "text": [
      "asepbsepc\n"
     ]
    }
   ],
   "source": [
    "#¿Cuál es el resultado del siguiente código?\n",
    "print(\"a\", \"b\", \"c\", sep=\"sep\")"
   ]
  },
  {
   "cell_type": "code",
   "execution_count": null,
   "metadata": {},
   "outputs": [],
   "source": [
    "try:\n",
    "    pass\n",
    "except (ValueError, TypeError):\n",
    "    print(\"Got a ValueError or TypeError\")"
   ]
  },
  {
   "cell_type": "code",
   "execution_count": 23,
   "metadata": {},
   "outputs": [
    {
     "ename": "TypeError",
     "evalue": "unsupported operand type(s) for *: 'NoneType' and 'NoneType'",
     "output_type": "error",
     "traceback": [
      "\u001b[0;31m---------------------------------------------------------------------------\u001b[0m",
      "\u001b[0;31mTypeError\u001b[0m                                 Traceback (most recent call last)",
      "\u001b[1;32m/media/luis-fer/User Data/Docx y archivos/programacion/coding/CiscoPythonADSI/ParcialSeccion.ipynb Celda 23\u001b[0m in \u001b[0;36m<cell line: 8>\u001b[0;34m()\u001b[0m\n\u001b[1;32m      <a href='vscode-notebook-cell:/media/luis-fer/User%20Data/Docx%20y%20archivos/programacion/coding/CiscoPythonADSI/ParcialSeccion.ipynb#X31sZmlsZQ%3D%3D?line=4'>5</a>\u001b[0m \u001b[39mdef\u001b[39;00m \u001b[39mfunction_2\u001b[39m(a):\n\u001b[1;32m      <a href='vscode-notebook-cell:/media/luis-fer/User%20Data/Docx%20y%20archivos/programacion/coding/CiscoPythonADSI/ParcialSeccion.ipynb#X31sZmlsZQ%3D%3D?line=5'>6</a>\u001b[0m     \u001b[39mreturn\u001b[39;00m function_1(a) \u001b[39m*\u001b[39m function_1(a)\n\u001b[0;32m----> <a href='vscode-notebook-cell:/media/luis-fer/User%20Data/Docx%20y%20archivos/programacion/coding/CiscoPythonADSI/ParcialSeccion.ipynb#X31sZmlsZQ%3D%3D?line=7'>8</a>\u001b[0m \u001b[39mprint\u001b[39m (function_2(\u001b[39m2\u001b[39;49m))\n",
      "\u001b[1;32m/media/luis-fer/User Data/Docx y archivos/programacion/coding/CiscoPythonADSI/ParcialSeccion.ipynb Celda 23\u001b[0m in \u001b[0;36mfunction_2\u001b[0;34m(a)\u001b[0m\n\u001b[1;32m      <a href='vscode-notebook-cell:/media/luis-fer/User%20Data/Docx%20y%20archivos/programacion/coding/CiscoPythonADSI/ParcialSeccion.ipynb#X31sZmlsZQ%3D%3D?line=4'>5</a>\u001b[0m \u001b[39mdef\u001b[39;00m \u001b[39mfunction_2\u001b[39m(a):\n\u001b[0;32m----> <a href='vscode-notebook-cell:/media/luis-fer/User%20Data/Docx%20y%20archivos/programacion/coding/CiscoPythonADSI/ParcialSeccion.ipynb#X31sZmlsZQ%3D%3D?line=5'>6</a>\u001b[0m     \u001b[39mreturn\u001b[39;00m function_1(a) \u001b[39m*\u001b[39;49m function_1(a)\n",
      "\u001b[0;31mTypeError\u001b[0m: unsupported operand type(s) for *: 'NoneType' and 'NoneType'"
     ]
    }
   ],
   "source": [
    "#El siguiente fragmento de código:\n",
    "def function_1(a): \n",
    "    return None\n",
    "\n",
    "def function_2(a):\n",
    "    return function_1(a) * function_1(a)\n",
    "\n",
    "print (function_2(2))"
   ]
  },
  {
   "cell_type": "code",
   "execution_count": 24,
   "metadata": {},
   "outputs": [
    {
     "name": "stdout",
     "output_type": "stream",
     "text": [
      "0 1\n"
     ]
    }
   ],
   "source": [
    "# ¿Cuál es el resultado del siguiente fragmento de código?\n",
    "a = 1\n",
    "b = 0\n",
    "a = a^ b\n",
    "b = a^ b\n",
    "a = a^ b\n",
    "print (a, b)"
   ]
  },
  {
   "cell_type": "code",
   "execution_count": 25,
   "metadata": {},
   "outputs": [
    {
     "ename": "SyntaxError",
     "evalue": "positional argument follows keyword argument (272581770.py, line 5)",
     "output_type": "error",
     "traceback": [
      "\u001b[0;36m  Input \u001b[0;32mIn [25]\u001b[0;36m\u001b[0m\n\u001b[0;31m    print (func(b=2, 2))\u001b[0m\n\u001b[0m                     ^\u001b[0m\n\u001b[0;31mSyntaxError\u001b[0m\u001b[0;31m:\u001b[0m positional argument follows keyword argument\n"
     ]
    }
   ],
   "source": [
    "#El siguiente fragmento de código:\n",
    "def func(a, b): \n",
    "    return b ** a\n",
    "    \n",
    "print (func(b=2, 2))"
   ]
  },
  {
   "cell_type": "code",
   "execution_count": 26,
   "metadata": {},
   "outputs": [
    {
     "ename": "TypeError",
     "evalue": "'tuple' object does not support item assignment",
     "output_type": "error",
     "traceback": [
      "\u001b[0;31m---------------------------------------------------------------------------\u001b[0m",
      "\u001b[0;31mTypeError\u001b[0m                                 Traceback (most recent call last)",
      "\u001b[1;32m/media/luis-fer/User Data/Docx y archivos/programacion/coding/CiscoPythonADSI/ParcialSeccion.ipynb Celda 26\u001b[0m in \u001b[0;36m<cell line: 3>\u001b[0;34m()\u001b[0m\n\u001b[1;32m      <a href='vscode-notebook-cell:/media/luis-fer/User%20Data/Docx%20y%20archivos/programacion/coding/CiscoPythonADSI/ParcialSeccion.ipynb#X34sZmlsZQ%3D%3D?line=0'>1</a>\u001b[0m \u001b[39m#Suponiendo que my_tuple es una tupla creada correctamente, el hecho de que las tuplas sean inmutables significa que la siguiente instrucción:\u001b[39;00m\n\u001b[1;32m      <a href='vscode-notebook-cell:/media/luis-fer/User%20Data/Docx%20y%20archivos/programacion/coding/CiscoPythonADSI/ParcialSeccion.ipynb#X34sZmlsZQ%3D%3D?line=1'>2</a>\u001b[0m my_tuple\u001b[39m=\u001b[39m(\u001b[39m1\u001b[39m, \u001b[39m2\u001b[39m, [\u001b[39m3\u001b[39m, \u001b[39m4\u001b[39m])\n\u001b[0;32m----> <a href='vscode-notebook-cell:/media/luis-fer/User%20Data/Docx%20y%20archivos/programacion/coding/CiscoPythonADSI/ParcialSeccion.ipynb#X34sZmlsZQ%3D%3D?line=2'>3</a>\u001b[0m my_tuple [\u001b[39m1\u001b[39;49m] \u001b[39m=\u001b[39m my_tuple[\u001b[39m1\u001b[39m] \u001b[39m+\u001b[39m my_tuple [\u001b[39m0\u001b[39m]\n",
      "\u001b[0;31mTypeError\u001b[0m: 'tuple' object does not support item assignment"
     ]
    }
   ],
   "source": [
    "#Suponiendo que my_tuple es una tupla creada correctamente, el hecho de que las tuplas sean inmutables significa que la siguiente instrucción:\n",
    "my_tuple=(1, 2, [3, 4])\n",
    "my_tuple [1] = my_tuple[1] + my_tuple [0]\n"
   ]
  },
  {
   "cell_type": "code",
   "execution_count": 27,
   "metadata": {},
   "outputs": [
    {
     "name": "stdout",
     "output_type": "stream",
     "text": [
      "21"
     ]
    }
   ],
   "source": [
    "#¿Cuál es el resultado del siguiente fragmento de código?\n",
    "dct = {}\n",
    "dct['1'] = (1, 2) \n",
    "dct ['2'] = (2, 1)\n",
    "for x in dct.keys():\n",
    "    print (dct [x] [1], end=\"\")"
   ]
  },
  {
   "cell_type": "code",
   "execution_count": 28,
   "metadata": {},
   "outputs": [
    {
     "name": "stdout",
     "output_type": "stream",
     "text": [
      "1 1 2\n"
     ]
    }
   ],
   "source": [
    "#¿Cuál es el resultado del siguiente fragmento de código?\n",
    "x = 1 \n",
    "y = 2\n",
    "x, y, z = x, x, y \n",
    "z, y, z = x, y, z\n",
    "print (x, y, z)"
   ]
  },
  {
   "cell_type": "code",
   "execution_count": 29,
   "metadata": {},
   "outputs": [
    {
     "name": "stdout",
     "output_type": "stream",
     "text": [
      "2.0\n"
     ]
    }
   ],
   "source": [
    "#¿Cuál es la salida del siguiente código si el usuario ingresa dos líneas que contienen 2 y 4 respectivamente?\n",
    "x= float (input()) \n",
    "y = float (input()) \n",
    "print (y ** (1 / x))"
   ]
  },
  {
   "cell_type": "code",
   "execution_count": 30,
   "metadata": {},
   "outputs": [
    {
     "ename": "SyntaxError",
     "evalue": "'break' outside loop (2838361250.py, line 4)",
     "output_type": "error",
     "traceback": [
      "\u001b[0;36m  Input \u001b[0;32mIn [30]\u001b[0;36m\u001b[0m\n\u001b[0;31m    break\u001b[0m\n\u001b[0m    ^\u001b[0m\n\u001b[0;31mSyntaxError\u001b[0m\u001b[0;31m:\u001b[0m 'break' outside loop\n"
     ]
    }
   ],
   "source": [
    "#¿Cuál es el comportamiento esperado del siguiente programa?\n",
    "try:\n",
    "    print(5/0) \n",
    "    break\n",
    "except:\n",
    "    print(\"Lo siento, algo salió mal...\") \n",
    "except (ValueError, ZeroDivisionError): \n",
    "    print(\"Mala suerte...\")"
   ]
  },
  {
   "cell_type": "code",
   "execution_count": 31,
   "metadata": {},
   "outputs": [
    {
     "name": "stdout",
     "output_type": "stream",
     "text": [
      "4\n"
     ]
    }
   ],
   "source": [
    "# ¿Cuál es el resultado del siguiente fragmento de código?\n",
    "def fun(inp=2, out=3):\n",
    "    return inp * out\n",
    "\n",
    "\n",
    "print(fun(out=2))\n"
   ]
  }
 ],
 "metadata": {
  "kernelspec": {
   "display_name": "Python 3.8.2 64-bit",
   "language": "python",
   "name": "python3"
  },
  "language_info": {
   "codemirror_mode": {
    "name": "ipython",
    "version": 3
   },
   "file_extension": ".py",
   "mimetype": "text/x-python",
   "name": "python",
   "nbconvert_exporter": "python",
   "pygments_lexer": "ipython3",
   "version": "3.8.2"
  },
  "orig_nbformat": 4,
  "vscode": {
   "interpreter": {
    "hash": "0adcc2737ebf6a4a119f135174df96668767fca1ef1112612db5ecadf2b6d608"
   }
  }
 },
 "nbformat": 4,
 "nbformat_minor": 2
}
