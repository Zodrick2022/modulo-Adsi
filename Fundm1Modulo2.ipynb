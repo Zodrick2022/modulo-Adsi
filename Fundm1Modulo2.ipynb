{
 "cells": [
  {
   "cell_type": "markdown",
   "metadata": {},
   "source": [
    "# Fundm1Modulo2"
   ]
  },
  {
   "cell_type": "markdown",
   "metadata": {},
   "source": [
    "## Conceptos de funcion print()\n",
    "\n",
    "Argumentos: \n",
    "- sep=''  separa los argumentos\n",
    "- end=''  final de la funcion print\n",
    "\n",
    "---\n",
    "\n",
    "Escape de carcateres:\n",
    "\n",
    "```py \n",
    "\n",
    "print('\\n')#salto linea\n",
    "print('\\t')#tabulación\n",
    "print('\\'')#escape de caracter ''\n",
    "```\n"
   ]
  },
  {
   "cell_type": "markdown",
   "metadata": {},
   "source": [
    "## Tipos de datos\n",
    "\n",
    "- Numeros: \n",
    "    * Enteros (**int**) ---> 5\n",
    "    * Flotantes (float) ---> 6.3\n",
    "*nota:* desde python 6.3 se pueden escribir numeros con guion por ej: 11111111   o  11_111_111\n",
    "\n",
    "#### Numeros octales \n",
    "0o (cero-o) el número será tratado como un valor octal. Esto significa que el número debe contener dígitos en el rango del [0..7] únicamente.\n",
    "\n",
    "```py\n",
    "print(0o123) # 83\n",
    "```\n",
    "#### Numeros hexadecimales\n",
    "los números deben ser precedidos por el prefijo o 0X (cero-x).\n",
    "```py\n",
    "print(0x123) #291\n",
    "```\n",
    "#### Flotantes\n",
    "ejemplos:   \n",
    "* 2.5\n",
    "* -0.4\n",
    "* 4. \n",
    "* .4 \n",
    "\n",
    "---\n",
    "\n",
    "### La Exponieciacion\n",
    "Por ejemplo, la velocidad de la luz, expresada en metros por segundo. Escrita directamente se vería de la siguiente manera: 300000000.\n",
    "\n",
    "Para evitar escribir tantos ceros, los libros de texto emplean la forma abreviada, la cual probablemente hayas visto:\n",
    "    \n",
    "    3 x 108.\n",
    "\n",
    "```py\n",
    "print(3E8) #300000000\n",
    "\n",
    "print(0.0000000000000000000001) #1e-22\n",
    "```\n",
    "Una constante de física denominada \"La Constante de Planck\" (denotada como h), de acuerdo con los libros de texto, tiene un valor de: 6.62607 x 10-34.\n",
    "\n",
    "Si se quisiera utilizar en un programa, se debería escribir de la siguiente manera:\n",
    "\n",
    "    6.62607E-34\n",
    "---\n",
    "\n",
    "#### las cadenas\n",
    "\n",
    "    'cadena de texto '\n",
    "    \"43252345\"\n",
    "\n",
    "---\n",
    "### los booleanos\n",
    "l nombre proviene de George Boole (1815-1864), el autor de Las Leyes del Pensamiento, las cuales definen el Álgebra Booleana - una parte del álgebra que hace uso de dos valores: Verdadero y Falso, denotados como 1 y 0.\n",
    "\n",
    "```py\n",
    "print(True > False)#true\n",
    "print(True < False)#false\n",
    "```\n"
   ]
  },
  {
   "cell_type": "markdown",
   "metadata": {},
   "source": [
    "## Los operadores matematicos\n",
    "\n",
    "    +, -, *, /, //, %, **\n",
    "\n",
    "#### exponeciacion\n",
    "Las matemáticas clásicas prefieren una notación con superíndices, como el siguiente: 23. Los editores de texto puros no aceptan esa notación, por lo tanto Python utiliza ** en lugar de la notación matemática, por ejemplo, 2 ** 3.\n",
    "```py\n",
    "print(2 ** 3)# 8\n",
    "print(2 ** 3.)# 8.0\n",
    "```\n",
    "#### multiplicacion\n",
    "```py\n",
    "print(2 * 3)#6\n",
    "```\n",
    "#### divcion\n",
    "la divicion siempre devuelev un flotante\n",
    "```py\n",
    "print(6 / 3)#2.0\n",
    "```\n",
    "#### divicion entera\n",
    "Un símbolo de // (doble diagonal) es un operador de división entera. Difiere del operador estándar / en dos detalles:\n",
    "\n",
    "El resultado carece de la parte fraccionaria, está ausente (para los enteros), o siempre es igual a cero (para los flotantes); esto significa que los resultados siempre son redondeados.\n",
    "Se ajusta a la regla entero frente a flotante.\n",
    "```py\n",
    "print(6 // 4)#2\n",
    "```\n",
    "#### Modulo o residuo\n",
    "Es el residuo que queda de la división entera.\n",
    "En otras palabras, es el valor que sobra después de dividir un valor entre otro para producir un resultado entero.\n",
    "\n",
    "```py\n",
    "print(14 % 4)#2\n",
    "```\n",
    "Como puedes observar, el resultado es dos. Esta es la razón:\n",
    "\n",
    "14 // 4 da como resultado un 3 → esta es la parte entera, es decir el cociente.\n",
    "3 * 4 da como resultado 12 → como resultado de la multiplicación entre el cociente y el divisor.\n",
    "14 - 12 da como resultado 2 → este es el residuo.\n",
    "\n",
    "##### *nota:*\n",
    "No intentes:\n",
    "\n",
    "* Dividir entre cero.\n",
    "* Realizar una división entera entre cero.\n",
    "* Encontrar el residuo de una división entre cero.\n",
    "\n",
    "#### Suma y resta\n",
    "\n",
    "```py\n",
    "print(-4 + 4)\n",
    "print(-4. + 8)\n",
    "```"
   ]
  },
  {
   "cell_type": "code",
   "execution_count": 3,
   "metadata": {},
   "outputs": [
    {
     "name": "stdout",
     "output_type": "stream",
     "text": [
      "Entero A,B,C   \tA\tB\tC\n",
      "A=10           \t10\t\t\n",
      "B=15           \t10\t15\t\n",
      "C=20           \t10\t15\t20\n",
      "A=A+B      \t25\t23\t45\n",
      "B=B+8      \t25\t23\t45\n",
      "C=C+A      \t25\t23\t45\n",
      "A=A+5        \t30\t26\t47\n",
      "B=B+3        \t30\t26\t47\n",
      "C=C+2        \t30\t26\t47\n",
      "A=A-B        \t4\t-22\t26\n",
      "B=A-B        \t4\t-22\t26\n",
      "C=A-B        \t4\t-22\t26\n"
     ]
    }
   ],
   "source": [
    "#Ejercicio de listas 11ago2022\n",
    "\n",
    "A=10\n",
    "B=15\n",
    "C=20\n",
    "\n",
    "print('Entero A,B,C   ', 'A','B','C', sep='\\t')\n",
    "print('A=10           ',A,'','',sep='\\t')\n",
    "print('B=15           ',A,B,'', sep='\\t')\n",
    "print('C=20           ',A,B,C, sep='\\t')\n",
    "\n",
    "A=A+B\n",
    "B=B+8\n",
    "C=C+A\n",
    "\n",
    "print('A=A+B      ',A,B,C, sep='\\t')\n",
    "print('B=B+8      ',A,B,C, sep='\\t')\n",
    "print('C=C+A      ',A,B,C, sep='\\t')\n",
    "\n",
    "A=A+5\n",
    "B=B+3\n",
    "C=C+2\n",
    "\n",
    "print('A=A+5        ',A,B,C, sep='\\t')\n",
    "print('B=B+3        ',A,B,C, sep='\\t')\n",
    "print('C=C+2        ',A,B,C, sep='\\t')\n",
    "\n",
    "A=A-B\n",
    "B=A-B\n",
    "C=A-B\n",
    "\n",
    "print('A=A-B        ',A,B,C, sep='\\t')\n",
    "print('B=A-B        ',A,B,C, sep='\\t')\n",
    "print('C=A-B        ',A,B,C, sep='\\t')\n"
   ]
  },
  {
   "cell_type": "markdown",
   "metadata": {},
   "source": [
    "#### Prioridad de operaciones \n",
    "\n",
    "![img](https://www.delftstack.com/ezoimgfmt/d33wubrfki0l68.cloudfront.net/a8056bfacf2ccc89649c8a0ccdc864b31a4163c0/3b70f/img/python/orderofoperators.png?ezimgfmt=rs%3Adevice%2Frscb5-1)\n",
    "\n",
    "```py\n",
    "print((5 * ((25 % 13) + 100) / (2 * 13)) // 2) #10.0\n",
    "```\n",
    "\n",
    "#### enlazado \n",
    "El enlace de un operador determina el orden en que se computan las operaciones de los operadores con la misma prioridad, los cuales se encuentran dentro de una misma expresión.\n",
    "\n",
    "    print(9 % 6 % 2) enlazado del lado izquierdo.\n",
    "\n",
    "La exponeciacion tiene enlaczado de derecha a izquierda\n",
    "    \n",
    "    print(2 ** 2 ** 3)   256"
   ]
  },
  {
   "cell_type": "markdown",
   "metadata": {},
   "source": [
    "### variables\n",
    "Si se desea nombrar una variable, se deben seguir las siguientes reglas:\n",
    "\n",
    "* El nombre de la variable debe de estar compuesto por MAYÚSCULAS, minúsculas, dígitos, y el carácter _ (guion bajo).\n",
    "* El nombre de la variable debe comenzar con una letra.\n",
    "* El carácter guion bajo es considerado una letra.\n",
    "* Las mayúsculas y minúsculas se tratan de forma distinta (un poco diferente que en el mundo real - Alicia y ALICIA son el mismo nombre, pero en Python son dos nombres de variable distintos, subsecuentemente, son dos variables diferentes).\n",
    "El nombre de las variables no pueden ser igual a alguna de las palabras reservadas de Python (se explicará más de esto pronto).\n",
    "\n",
    "Cuáles son los componentes o elementos de una variable en Python?\n",
    "\n",
    "Un nombre.\n",
    "Un valor (el contenido del contenedor).\n"
   ]
  },
  {
   "cell_type": "markdown",
   "metadata": {},
   "source": [
    "### Operadores Abreviados\n",
    "\n",
    "```py\n",
    "    =\tx = 5\tx = 5\t\n",
    "    +=\tx += 3\tx = x + 3\t\n",
    "    -=\tx -= 3\tx = x - 3\t\n",
    "    *=\tx *= 3\tx = x * 3\t\n",
    "    /=\tx /= 3\tx = x / 3\t\n",
    "    %=\tx %= 3\tx = x % 3\t\n",
    "    //=\tx //= 3\tx = x // 3\t\n",
    "    **=\tx **= 3\tx = x ** 3\n",
    "```"
   ]
  },
  {
   "cell_type": "code",
   "execution_count": 4,
   "metadata": {},
   "outputs": [
    {
     "name": "stdout",
     "output_type": "stream",
     "text": [
      "y = -9.0\n"
     ]
    }
   ],
   "source": [
    "''''\n",
    " Tu tarea es completar el código para evaluar la siguiente expresión:\n",
    "3x3 - 2x2 + 3x - 1\n",
    "\n",
    "--\n",
    "\n",
    "Datos de Prueba\n",
    "Entrada de Muestra\n",
    "\n",
    "x = 0\n",
    "x = 1\n",
    "x = -1\n",
    "\n",
    "Salida Esperada\n",
    "\n",
    "y = -1.0\n",
    "y = 3.0\n",
    "y = -9.0\n",
    "'''\n",
    "\n",
    "\n",
    "x =  -1\n",
    "x = float(x)\n",
    "y = (3*x**3) - (2*x**2) + 3*x -1\n",
    "print(\"y =\", y)\n"
   ]
  },
  {
   "cell_type": "markdown",
   "metadata": {},
   "source": [
    "### funciones basicas\n",
    "\n",
    "input()\n",
    "\n",
    "casting conversion de datos\n",
    "\n",
    "int()\n",
    "float()\n",
    "str()"
   ]
  },
  {
   "cell_type": "code",
   "execution_count": null,
   "metadata": {},
   "outputs": [],
   "source": [
    "'''\n",
    "El signo de * (asterisco), cuando es aplicado a una cadena y a un número (o a un número y cadena) se convierte en un operador de replicación.\n",
    "'''\n",
    "\n",
    "print(\"+\" + 10 * \"-\" + \"+\")\n",
    "print((\"|\" + \" \" * 10 + \"|\\n\") * 5, end=\"\")\n",
    "print(\"+\" + 10 * \"-\" + \"+\")"
   ]
  },
  {
   "cell_type": "markdown",
   "metadata": {},
   "source": [
    "![](https://edube.org/uploads/media/default/0001/01/b28be61cd2ada9483ab1e86e8be7b0b797d24674.png)\n",
    "\n",
    "Datos de Prueba\n",
    "Entrada de muestra: 1\n",
    "\n",
    "Salida esperada:\n",
    "\n",
    "y = 0.6000000000000001\n",
    "\n",
    "Entrada de muestra: 10\n",
    "\n",
    "Salida esperada:\n",
    "\n",
    "y = 0.09901951266867294\n",
    "\n",
    "Entrada de muestra: 100\n",
    "\n",
    "Salida esperada:\n",
    "\n",
    "y = 0.009999000199950014\n",
    "\n",
    "Entrada de muestra: -5\n",
    "\n",
    "Salida esperada:\n",
    "\n",
    "y = -0.19258202567760344"
   ]
  },
  {
   "cell_type": "code",
   "execution_count": 6,
   "metadata": {},
   "outputs": [
    {
     "name": "stdout",
     "output_type": "stream",
     "text": [
      "y = 0.19258202567760344\n"
     ]
    }
   ],
   "source": [
    "x = float(input(\"Ingresa el valor para x: \"))\n",
    "\n",
    "y =1/(x+1/(x+1/(x+1/(x))))\n",
    "\n",
    "print(\"y =\", y)\n"
   ]
  },
  {
   "cell_type": "markdown",
   "metadata": {},
   "source": [
    "Escenario\n",
    "La tarea es preparar un código simple para evaluar o encontrar el tiempo final de un periodo de tiempo dado, expresándolo en horas y minutos. Las horas van de 0 a 23 y los minutos de 0 a 59. El resultado debe ser mostrado en la consola.\n",
    "\n",
    "Por ejemplo, si el evento comienza a las 12:17 y dura 59 minutos, terminará a las 13:16.\n",
    "\n",
    "No te preocupes si tu código no es perfecto, está bien si acepta una hora invalida, lo más importante es que el código produzca una salida correcta acorde a la entrada dada.\n",
    "\n",
    "Prueba el código cuidadosamente. Pista: utilizar el operador % puede ser clave para el éxito.\n",
    "\n",
    "Datos de Prueba\n",
    "Entrada de muestra:\n",
    "12\n",
    "17\n",
    "59\n",
    "\n",
    "Salida esperada: 13:16\n",
    "\n",
    "\n",
    "Entrada de muestra:\n",
    "23\n",
    "58\n",
    "642\n",
    "\n",
    "Salida esperada: 10:40\n",
    "\n",
    "\n",
    "Entrada de muestra:\n",
    "0\n",
    "1\n",
    "2939\n",
    "\n",
    "Salida esperada: 1:0"
   ]
  },
  {
   "cell_type": "code",
   "execution_count": 7,
   "metadata": {},
   "outputs": [
    {
     "name": "stdout",
     "output_type": "stream",
     "text": [
      "11:29\n"
     ]
    }
   ],
   "source": [
    "hour = int(input(\"Hora de inicio (horas): \"))\n",
    "mins = int(input(\"Minuto de inicio (minutos): \"))\n",
    "dura = int(input(\"Duración del evento (minutos): \"))\n",
    "mins = mins + dura # encuentra el número total de minutos\n",
    "hour = hour + mins // 60 # encuentra el número de horas ocultas en los minutos y actualiza las horas\n",
    "mins = mins % 60 # corrige los minutos para que estén en un rango de (0..59)\n",
    "hour = hour % 24 # corrige las horas para que estén en un rango de (0..23) \n",
    "print(hour, \":\", mins, sep='')\n"
   ]
  }
 ],
 "metadata": {
  "kernelspec": {
   "display_name": "Python 3.8.2 64-bit",
   "language": "python",
   "name": "python3"
  },
  "language_info": {
   "codemirror_mode": {
    "name": "ipython",
    "version": 3
   },
   "file_extension": ".py",
   "mimetype": "text/x-python",
   "name": "python",
   "nbconvert_exporter": "python",
   "pygments_lexer": "ipython3",
   "version": "3.8.2"
  },
  "orig_nbformat": 4,
  "vscode": {
   "interpreter": {
    "hash": "0adcc2737ebf6a4a119f135174df96668767fca1ef1112612db5ecadf2b6d608"
   }
  }
 },
 "nbformat": 4,
 "nbformat_minor": 2
}
