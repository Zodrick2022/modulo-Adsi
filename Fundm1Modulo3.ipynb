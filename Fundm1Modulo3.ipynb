{
 "cells": [
  {
   "cell_type": "markdown",
   "metadata": {},
   "source": [
    "# Fundm1Modulo3\n",
    "\n",
    "---\n",
    "\n",
    "En este módulo, aprenderás sobre:\n",
    "\n",
    "Datos de tipo booleano.\n",
    "Operadores relacionales.\n",
    "Cómo tomar decisiones en Python (if, if-else, if-elif, else).\n",
    "Cómo repetir la ejecución de código usando los bucles (while, for).\n",
    "Cómo realizar operaciones lógicas y de bit a bit en Python.\n",
    "Listas en Python (construcción, indexación y segmentación; manipulación de contenido).\n",
    "Cómo ordenar una lista usando algoritmos de clasificación de burbujas.\n",
    "Listas multidimensionales y sus aplicaciones.\n"
   ]
  },
  {
   "cell_type": "markdown",
   "metadata": {},
   "source": [
    "### Operadores de compracion\n",
    "\n",
    "![](https://external-content.duckduckgo.com/iu/?u=https%3A%2F%2F3.bp.blogspot.com%2F-kisR3ee1Cos%2FV2f4V5PPz2I%2FAAAAAAAAPzM%2FZKLQzG4n81ktwhHIcAY9ZwsaSADmNyPdQCLcB%2Fs640%2FTABLAOPERADORESDECOMPARACI%2525C3%252593N.PNG&f=1&nofb=1)\n"
   ]
  },
  {
   "cell_type": "code",
   "execution_count": 20,
   "metadata": {},
   "outputs": [
    {
     "name": "stdout",
     "output_type": "stream",
     "text": [
      " [ * ] 4.33 -> es el numero mayor\n"
     ]
    }
   ],
   "source": [
    "#Ejercicio (Excercise)\n",
    "\n",
    "#Numero mayor de 3 numeros, incluyendo flotantes.\n",
    "\n",
    "num1,num2,num3=0,0,0\n",
    "\n",
    "lista=[num1,num2,num3]\n",
    "\n",
    "for num in range(3):\n",
    "    lista[num]=input(\"Ingrese el valor para el numero ({}): \".format(num+1))\n",
    "\n",
    "num1=eval(lista[0])\n",
    "num2=eval(lista[1])\n",
    "num3=eval(lista[2])\n",
    "\n",
    "if num1>num2 and num1>num3:\n",
    "    nmayor=num1\n",
    "elif num2>num1 and num2>num3:\n",
    "    nmayor=num2\n",
    "else:\n",
    "    nmayor=num3\n",
    "    \n",
    "print(' [ * ] '+str(nmayor),'es el numero mayor',sep=' -> ')"
   ]
  },
  {
   "cell_type": "markdown",
   "metadata": {},
   "source": [
    "En el ejercicio anterior se puede hacer el uso de la funcion\n",
    "\n",
    "    max() #obtiene el valor mas alto en un grupo de elementos\n",
    "    min() #obtine el valor mas bajo.\n",
    "\n",
    "```py\n",
    "\n",
    "print('el mayor es ', max(num1, num2, num3))\n",
    "```\n"
   ]
  },
  {
   "cell_type": "code",
   "execution_count": 35,
   "metadata": {},
   "outputs": [
    {
     "name": "stdout",
     "output_type": "stream",
     "text": [
      " [ * ] $1800000 -> es el 18% del valor a pagar por el inmueble\n"
     ]
    }
   ],
   "source": [
    "#Ejercicio (Excercise)\n",
    "\n",
    "#Apartir de el valor inmobiliario de una casa, determinar su porcentaje a pagar:\n",
    "# -si el valor es menor o igual a $85,820,000, el porcentaje a pagar es del 18%\n",
    "# -si el valor es mayor a $85,820,000, el porcentaje a pagar es del 32%\n",
    "\n",
    "valor=eval(input(\"Ingrese el valor inmobiliario de la casa: \"))\n",
    "\n",
    "if valor <= 85820000 : valor *=0.18; pc='18%'\n",
    "else: valor *=0.32; pc='32%'\n",
    "\n",
    "print(' [ * ] $'+str(int(valor)),'es el {} del valor a pagar por el inmueble'.format(pc),sep=' -> ')\n",
    "\n"
   ]
  },
  {
   "cell_type": "markdown",
   "metadata": {},
   "source": [
    "##### Ejercicio\n",
    "\n",
    "Érase una vez una tierra de leche y miel, habitada por gente feliz y próspera. La gente pagaba impuestos, por supuesto, su felicidad tenía límites. El impuesto más importante, denominado Impuesto Personal de Ingresos (IPI, para abreviar) tenía que pagarse una vez al año y se evaluó utilizando la siguiente regla:\n",
    "\n",
    "- Si el ingreso del ciudadano no era superior a 85,528 pesos, el impuesto era igual al 18% del ingreso menos 556 pesos y 2 centavos (esta fue la llamada exención fiscal ).\n",
    "\n",
    "- Si el ingreso era superior a esta cantidad, el impuesto era igual a 14,839 pesos y 2 centavos, más el 32% del excedente sobre 85,528 pesos.\n",
    "  Tu tarea es escribir una calculadora de impuestos.\n",
    "\n",
    "- Debe aceptar un valor de punto flotante: el ingreso.\n",
    "\n",
    "A continuación, debe imprimir el impuesto calculado, redondeado a pesos totales. Hay una función llamada round() que hará el redondeo por ti, la encontrarás en el código de esqueleto del editor.\n",
    "Nota: Este país feliz nunca devuelve dinero a sus ciudadanos. Si el impuesto calculado es menor que cero, solo significa que no hay impuesto (el impuesto es igual a cero). Ten esto en cuenta durante tus cálculos.\n"
   ]
  },
  {
   "cell_type": "code",
   "execution_count": null,
   "metadata": {},
   "outputs": [],
   "source": [
    "income = float(input(\"Introduce el ingreso anual:\"))\n",
    "\n",
    "if income<85528: \n",
    "    tax=(income*0.18)-556.2 \n",
    "    if tax<0:tax=0\n",
    "elif income>85528:\n",
    "    tax=((income-85528)*0.32) + 14839.2\n",
    "    \n",
    "tax = round(tax, 0)\n",
    "print(\"El impuesto es:\", tax, \"pesos\")\n"
   ]
  },
  {
   "cell_type": "markdown",
   "metadata": {},
   "source": [
    "#### Ejercicio\n",
    "\n",
    "Como seguramente sabrás, debido a algunas razones astronómicas, el año pueden ser bisiesto o común. Los primeros tienen una duración de 366 días, mientras que los últimos tienen una duración de 365 días.\n",
    "\n",
    "Desde la introducción del calendario Gregoriano (en 1582), se utiliza la siguiente regla para determinar el tipo de año:\n",
    "\n",
    "- Si el número del año no es divisible entre cuatro, es un año común.\n",
    "- De lo contrario, si el número del año no es divisible entre 100, es un año bisiesto.\n",
    "- De lo contrario, si el número del año no es divisible entre 400, es un año común.\n",
    "- De lo contrario, es un año bisiesto.\n",
    "\n",
    "---\n",
    "\n",
    "#### Datos de Prueba\n",
    "\n",
    "Entrada de muestra: 2000\n",
    "\n",
    "Resultado esperado: Año Bisiesto\n",
    "\n",
    "Entrada de muestra: 2015\n",
    "\n",
    "Resultado esperado: Año Común\n",
    "\n",
    "Entrada de muestra: 1999\n",
    "\n",
    "Resultado esperado: Año Común\n",
    "\n",
    "Entrada de muestra: 1996\n",
    "\n",
    "Resultado esperado: Año Bisiesto\n",
    "\n",
    "Entrada de muestra: 1580\n",
    "\n",
    "Resultado esperado: No esta dentro del período del calendario Gregoriano\n"
   ]
  },
  {
   "cell_type": "code",
   "execution_count": null,
   "metadata": {},
   "outputs": [],
   "source": [
    "year = int(input(\"Introduce un año:\"))\n",
    "\n",
    "if year<1582: year='No esta dentro del período del calendario Gregoriano'\n",
    "elif (year%4)==0 :year='Año Bisiesto'\n",
    "elif (year%100)!=0: year='Año Común'\n",
    "\n",
    "print(year)"
   ]
  },
  {
   "cell_type": "code",
   "execution_count": null,
   "metadata": {},
   "outputs": [],
   "source": [
    "secret_number = 777\n",
    "\n",
    "print(\n",
    "\"\"\"\n",
    "+==================================+\n",
    "| ¡Bienvenido a mi juego, muggle!  |\n",
    "| Introduce un número entero       |\n",
    "| y adivina qué número he          |\n",
    "| elegido para ti.                 |\n",
    "| Entonces,                        |\n",
    "| ¿Cuál es el número secreto?      |\n",
    "+==================================+\n",
    "\"\"\")\n",
    "\n",
    "num=int(input('valor para num: '))\n",
    "while num != secret_number:\n",
    "    print(\"¡Ja, ja! ¡Estás atrapado en mi bucle!\" )\n",
    "    num=int(input('valor para num: '))\n",
    "\n",
    "print(\"¡Bien hecho, muggle! Eres libre ahora\")"
   ]
  },
  {
   "cell_type": "code",
   "execution_count": null,
   "metadata": {},
   "outputs": [],
   "source": [
    "for i in range(3, 33, 3):\n",
    "    print(\"El valor de i es actualmente\", i)"
   ]
  },
  {
   "cell_type": "code",
   "execution_count": null,
   "metadata": {},
   "outputs": [],
   "source": [
    "power = 1\n",
    "for expo in range(16):\n",
    "    print(\"2 elevado a\", expo, \"=\", power)\n",
    "    power *= 2"
   ]
  },
  {
   "cell_type": "code",
   "execution_count": null,
   "metadata": {},
   "outputs": [],
   "source": [
    "import time\n",
    "\n",
    "for i in range(1,6):\n",
    "    time.sleep(1)\n",
    "    print(i,' Mississippi')\n",
    "    \n",
    "print(\"¡Listos o no, ahí voy!\")"
   ]
  },
  {
   "cell_type": "code",
   "execution_count": null,
   "metadata": {},
   "outputs": [],
   "source": [
    "largest_number = -99999999\n",
    "counter = 0\n",
    "\n",
    "while True:\n",
    "    number = int(input(\"Ingresa un número o escribe -1 para finalizar el programa: \"))\n",
    "    if number == -1:\n",
    "        break\n",
    "    counter += 1\n",
    "    if number > largest_number:\n",
    "        largest_number = number\n",
    "\n",
    "if counter != 0:\n",
    "    print(\"El número más grande es\", largest_number)\n",
    "else:\n",
    "    print(\"No has ingresado ningún número.\")\n"
   ]
  },
  {
   "cell_type": "code",
   "execution_count": null,
   "metadata": {},
   "outputs": [],
   "source": [
    "user_word = input('palabra: ').upper()\n",
    "vocal='AEIOU'\n",
    "for letter in user_word:\n",
    "    if letter in vocal:continue\n",
    "    else:print(letter)\n",
    "\n",
    "#else:word_without_vowels+=letter   \n",
    "#print(word_without_vowels)"
   ]
  },
  {
   "cell_type": "code",
   "execution_count": null,
   "metadata": {},
   "outputs": [],
   "source": [
    "i = 111\n",
    "for i in range(1, 6):\n",
    "    print(i)\n",
    "else:\n",
    "    print(\"else:\", i)"
   ]
  },
  {
   "cell_type": "markdown",
   "metadata": {},
   "source": [
    "#### Ejercicio\n",
    "\n",
    "Escucha esta historia: Un niño y su padre, un programador de computadoras, juegan con bloques de madera. Están construyendo una pirámide.\n",
    "\n",
    "Su pirámide es un poco rara, ya que en realidad es una pared en forma de pirámide, es plana. La pirámide se apila de acuerdo con un principio simple: cada capa inferior contiene un bloque más que la capa superior.\n",
    "\n",
    "La figura ilustra la regla utilizada por los constructores:\n",
    "\n",
    "![https://edube.org/uploads/media/default/0001/02/PE1_source_file_ESP_3.2.1.14_ESP.png](https://edube.org/uploads/media/default/0001/02/PE1_source_file_ESP_3.2.1.14_ESP.png)\n",
    "\n",
    "Tu tarea es escribir un programa que lea la cantidad de bloques que tienen los constructores, y generar la altura de la pirámide que se puede construir utilizando estos bloques.\n",
    "\n",
    "Nota: La altura se mide por el número de capas completas: si los constructores no tienen la cantidad suficiente de bloques y no pueden completar la siguiente capa, terminan su trabajo inmediatamente.\n",
    "\n",
    "Prueba tu código con los datos que hemos proporcionado.\n",
    "\n",
    "---\n",
    "\n",
    "#### Datos de prueba\n",
    "\n",
    "Entrada de muestra: 6\n",
    "Salida esperada: La altura de la pirámide es: 3\n",
    "\n",
    "Entrada de muestra: 20\n",
    "Salida esperada: La altura de la pirámide es: 5\n",
    "\n",
    "Entrada de muestra: 1000\n",
    "Salida esperada: La altura de la pirámide es: 44\n",
    "\n",
    "Entrada de muestra: 2\n",
    "Salida esperada: La altura de la pirámide es: 1\n"
   ]
  },
  {
   "cell_type": "code",
   "execution_count": 7,
   "metadata": {},
   "outputs": [
    {
     "name": "stdout",
     "output_type": "stream",
     "text": [
      "La altura de la pirámide: 5\n"
     ]
    }
   ],
   "source": [
    "blocks = int(input(\"Ingresa el número de bloques: \"))\n",
    "\n",
    "height = 0\n",
    "in_layer = 1\n",
    "while in_layer <= blocks:\n",
    "    height += 1\n",
    "    blocks -= in_layer\n",
    "    in_layer += 1\n",
    "    \n",
    "print(\"La altura de la pirámide:\", height)"
   ]
  },
  {
   "cell_type": "code",
   "execution_count": 8,
   "metadata": {},
   "outputs": [
    {
     "name": "stdout",
     "output_type": "stream",
     "text": [
      "La altura de la pirámide: 6\n"
     ]
    }
   ],
   "source": [
    "blocks = int(input(\"Ingresa el número de bloques: \"))\n",
    "height = 0\n",
    "while blocks > 0:\n",
    "    height += 1\n",
    "    blocks -= height\n",
    "    \n",
    "print(\"La altura de la pirámide:\", height)"
   ]
  },
  {
   "cell_type": "markdown",
   "metadata": {},
   "source": [
    "### Ejercicio conjetura 3n+1\n",
    "\n",
    "```\n",
    "    Sea la siguiente operación, aplicable a cualquier número entero positivo:\n",
    "\n",
    "    - Si el número es par, se divide entre 2.\n",
    "    - Si el número es impar, se multiplica por 3 y se suma 1.\n",
    "```\n",
    "\n",
    "Escenario\n",
    "En 1937, un matemático alemán llamado Lothar Collatz formuló una hipótesis intrigante (aún no se ha comprobado) que se puede describir de la siguiente manera:\n",
    "\n",
    "Toma cualquier número entero que no sea negativo y que no sea cero y asígnale el nombre c0.\n",
    "Si es par, evalúa un nuevo c0 como c0 Ã· 2.\n",
    "De lo contrario, si es impar, evalúe un nuevo c0 como 3 Ã c0 + 1.\n",
    "Si c0 â 1, salta al punto 2.\n",
    "La hipótesis dice que, independientemente del valor inicial de c0, el valor siempre tiende a 1.\n",
    "\n",
    "Por supuesto, es una tarea extremadamente compleja usar una computadora para probar la hipótesis de cualquier número natural (incluso puede requerir inteligencia artificial), pero puede usar Python para verificar algunos números individuales. Tal vez incluso encuentres el que refutaría la hipótesis.\n",
    "\n",
    "Escribe un programa que lea un número natural y ejecute los pasos anteriores siempre que c0 sea diferente de 1. También queremos que cuente los pasos necesarios para lograr el objetivo. Tu código también debe mostrar todos los valores intermedios de c0.\n",
    "\n",
    "Sugerencia: la parte más importante del problema es como transformar la idea de Collatz en un bucle while- esta es la clave del éxito.\n",
    "\n",
    "Prueba tu código con los datos que hemos proporcionado.\n",
    "\n",
    "##### Test Data\n",
    "\n",
    "```\n",
    "    Entrada de muestra: 15\n",
    "\n",
    "    Salida esperada:\n",
    "\n",
    "    46\n",
    "    23\n",
    "    70\n",
    "    35\n",
    "    106\n",
    "    53\n",
    "    160\n",
    "    80\n",
    "    40\n",
    "    20\n",
    "    10\n",
    "    5\n",
    "    16\n",
    "    8\n",
    "    4\n",
    "    2\n",
    "    1\n",
    "    pasos = 17\n",
    "```\n"
   ]
  },
  {
   "cell_type": "code",
   "execution_count": null,
   "metadata": {},
   "outputs": [],
   "source": [
    "c0 = int(input(\"Ingresa c0: \"))\n",
    "\n",
    "if c0 > 1:\n",
    "    steps = 0\n",
    "    while c0 != 1:\n",
    "        if c0 % 2 != 0:\n",
    "            cnew = 3 * c0 + 1\n",
    "        else:\n",
    "            cnew = c0 // 2\n",
    "        print(c0)\n",
    "        c0 = cnew\n",
    "        steps += 1\n",
    "    print(\"pasos =\", steps)\n",
    "else:\n",
    "    print(\"Valor de c0 incorrecto\")\n"
   ]
  }
 ],
 "metadata": {
  "kernelspec": {
   "display_name": "Python 3.8.2 64-bit",
   "language": "python",
   "name": "python3"
  },
  "language_info": {
   "codemirror_mode": {
    "name": "ipython",
    "version": 3
   },
   "file_extension": ".py",
   "mimetype": "text/x-python",
   "name": "python",
   "nbconvert_exporter": "python",
   "pygments_lexer": "ipython3",
   "version": "3.8.2"
  },
  "orig_nbformat": 4,
  "vscode": {
   "interpreter": {
    "hash": "0adcc2737ebf6a4a119f135174df96668767fca1ef1112612db5ecadf2b6d608"
   }
  }
 },
 "nbformat": 4,
 "nbformat_minor": 2
}
