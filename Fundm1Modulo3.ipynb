{
 "cells": [
  {
   "cell_type": "markdown",
   "metadata": {},
   "source": [
    "# Fundm1Modulo3\n",
    "---\n",
    "En este módulo, aprenderás sobre:\n",
    "\n",
    "Datos de tipo booleano.\n",
    "Operadores relacionales.\n",
    "Cómo tomar decisiones en Python (if, if-else, if-elif, else).\n",
    "Cómo repetir la ejecución de código usando los bucles (while, for).\n",
    "Cómo realizar operaciones lógicas y de bit a bit en Python.\n",
    "Listas en Python (construcción, indexación y segmentación; manipulación de contenido).\n",
    "Cómo ordenar una lista usando algoritmos de clasificación de burbujas.\n",
    "Listas multidimensionales y sus aplicaciones.\n"
   ]
  },
  {
   "cell_type": "markdown",
   "metadata": {},
   "source": [
    "### Operadores de compracion\n",
    "\n",
    "![](https://external-content.duckduckgo.com/iu/?u=https%3A%2F%2F3.bp.blogspot.com%2F-kisR3ee1Cos%2FV2f4V5PPz2I%2FAAAAAAAAPzM%2FZKLQzG4n81ktwhHIcAY9ZwsaSADmNyPdQCLcB%2Fs640%2FTABLAOPERADORESDECOMPARACI%2525C3%252593N.PNG&f=1&nofb=1)"
   ]
  },
  {
   "cell_type": "code",
   "execution_count": 20,
   "metadata": {},
   "outputs": [
    {
     "name": "stdout",
     "output_type": "stream",
     "text": [
      " [ * ] 4.33 -> es el numero mayor\n"
     ]
    }
   ],
   "source": [
    "#Ejercicio (Excercise)\n",
    "\n",
    "#Numero mayor de 3 numeros, incluyendo flotantes.\n",
    "\n",
    "num1,num2,num3=0,0,0\n",
    "\n",
    "lista=[num1,num2,num3]\n",
    "\n",
    "for num in range(3):\n",
    "    lista[num]=input(\"Ingrese el valor para el numero ({}): \".format(num+1))\n",
    "\n",
    "num1=eval(lista[0])\n",
    "num2=eval(lista[1])\n",
    "num3=eval(lista[2])\n",
    "\n",
    "if num1>num2 and num1>num3:\n",
    "    nmayor=num1\n",
    "elif num2>num1 and num2>num3:\n",
    "    nmayor=num2\n",
    "else:\n",
    "    nmayor=num3\n",
    "    \n",
    "print(' [ * ] '+str(nmayor),'es el numero mayor',sep=' -> ')"
   ]
  },
  {
   "cell_type": "markdown",
   "metadata": {},
   "source": [
    "En el ejercicio anterior se puede hacer el uso de la funcion \n",
    "\n",
    "    max() #obtiene el valor mas alto en un grupo de elementos\n",
    "    min() #obtine el valor mas bajo.\n",
    "\n",
    "```py\n",
    "\n",
    "print('el mayor es ', max(num1, num2, num3))\n",
    "```"
   ]
  },
  {
   "cell_type": "code",
   "execution_count": 31,
   "metadata": {},
   "outputs": [
    {
     "name": "stdout",
     "output_type": "stream",
     "text": [
      " [ * ] $9000000 -> es el valor a pagar por el inmueble\n"
     ]
    }
   ],
   "source": [
    "#Ejercicio (Excercise)\n",
    "\n",
    "#Apartir de el valor inmobiliario de una casa, determinar su porcentaje a pagar:\n",
    "# -si el valor es menor o igual a $85,820,000, el porcentaje a pagar es del 18%\n",
    "# -si el valor es mayor a $85,820,000, el porcentaje a pagar es del 32%\n",
    "\n",
    "valor=eval(input(\"Ingrese el valor inmobiliario de la casa: \"))\n",
    "\n",
    "if valor <= 85820000 : valor *=0.18 \n",
    "else: valor *=0.32\n",
    "\n",
    "print(' [ * ] $'+str(int(valor)),'es el valor a pagar por el inmueble',sep=' -> ')\n",
    "\n"
   ]
  }
 ],
 "metadata": {
  "kernelspec": {
   "display_name": "Python 3.8.2 64-bit",
   "language": "python",
   "name": "python3"
  },
  "language_info": {
   "codemirror_mode": {
    "name": "ipython",
    "version": 3
   },
   "file_extension": ".py",
   "mimetype": "text/x-python",
   "name": "python",
   "nbconvert_exporter": "python",
   "pygments_lexer": "ipython3",
   "version": "3.8.2"
  },
  "orig_nbformat": 4,
  "vscode": {
   "interpreter": {
    "hash": "0adcc2737ebf6a4a119f135174df96668767fca1ef1112612db5ecadf2b6d608"
   }
  }
 },
 "nbformat": 4,
 "nbformat_minor": 2
}
