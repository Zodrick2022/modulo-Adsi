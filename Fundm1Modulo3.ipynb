{
 "cells": [
  {
   "cell_type": "markdown",
   "metadata": {},
   "source": [
    "# Fundm1Modulo3\n",
    "---\n",
    "En este módulo, aprenderás sobre:\n",
    "\n",
    "Datos de tipo booleano.\n",
    "Operadores relacionales.\n",
    "Cómo tomar decisiones en Python (if, if-else, if-elif, else).\n",
    "Cómo repetir la ejecución de código usando los bucles (while, for).\n",
    "Cómo realizar operaciones lógicas y de bit a bit en Python.\n",
    "Listas en Python (construcción, indexación y segmentación; manipulación de contenido).\n",
    "Cómo ordenar una lista usando algoritmos de clasificación de burbujas.\n",
    "Listas multidimensionales y sus aplicaciones.\n"
   ]
  },
  {
   "cell_type": "markdown",
   "metadata": {},
   "source": [
    "### Operadores de compracion\n",
    "\n",
    "![](https://external-content.duckduckgo.com/iu/?u=https%3A%2F%2F3.bp.blogspot.com%2F-kisR3ee1Cos%2FV2f4V5PPz2I%2FAAAAAAAAPzM%2FZKLQzG4n81ktwhHIcAY9ZwsaSADmNyPdQCLcB%2Fs640%2FTABLAOPERADORESDECOMPARACI%2525C3%252593N.PNG&f=1&nofb=1)"
   ]
  },
  {
   "cell_type": "code",
   "execution_count": null,
   "metadata": {},
   "outputs": [],
   "source": []
  }
 ],
 "metadata": {
  "kernelspec": {
   "display_name": "Python 3.8.2 64-bit",
   "language": "python",
   "name": "python3"
  },
  "language_info": {
   "name": "python",
   "version": "3.8.2"
  },
  "orig_nbformat": 4,
  "vscode": {
   "interpreter": {
    "hash": "0adcc2737ebf6a4a119f135174df96668767fca1ef1112612db5ecadf2b6d608"
   }
  }
 },
 "nbformat": 4,
 "nbformat_minor": 2
}
