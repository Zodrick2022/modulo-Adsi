{
 "cells": [
  {
   "cell_type": "markdown",
   "metadata": {},
   "source": [
    "# Mod1-Módulos, paquetes y PIP\n",
    "\n",
    "---\n",
    "\n",
    "### ¿Dónde se utiliza Python?\n",
    "\n",
    "    Aplicaciones de Internet (BitTorrent, Jogger Publishing Assistant, TheCircle, TwistedMatrix)\n",
    "    3D CAD/CAM (FreeCAD, Fandango, Blender, Vintech RCAM)\n",
    "    Aplicaciones Empresariales (Odoo, Tryton, Picalo, LinOTP 2, RESTx)\n",
    "    Aplicaciones de Imagen (Gnofract 4D, Gogh, imgSeek, MayaVi, VPython)\n",
    "    Aplicaciones Móviles (Aarlogic C05/3, AppBackup, Pyroute)\n",
    "    Aplicaciones de Oficina (calibre, faces, Notalon, pyspread)\n",
    "    Administradores de Información Personal (BitPim, Narval, Prioritise, Task Coach, WikidPad)\n",
    "    (Fuente: https://wiki.python.org/moin/PythonProjects)\n",
    "\n",
    "\n",
    "    Generalmente, Python es una excelente opción para:\n",
    "\n",
    "    Desarrollo Web (por ejemplo, los frameworks Django y Pyramid, micro-frameworks Flask y Bottle)\n",
    "    Computación científica y numérica (por ejemplo, SciPy, una colección de paquetes con fines matemáticos, científicos y de ingeniería; Ipython, un shell interactivo que permite la edición y grabación de sesiones de trabajo)\n",
    "    Educación (¡es un lenguaje brillante para enseñar programación! ¡Y es por eso que te ofrecemos este curso!)\n",
    "    GUIs de Escritorio (por ejemplo, wxWidgets, Kivy, Qt)\n",
    "    Desarrollo de software (control de compilación, gestión y pruebas: Scons, Buildbot, Apache Gump, Roundup, Trac)\n",
    "    Aplicaciones empresariales (ERP y sistemas de comercio electrónico: Odoo, Tryton)\n",
    "(Fuente: [https://www.python.org/about/apps](https://www.python.org/about/apps) )"
   ]
  },
  {
   "cell_type": "markdown",
   "metadata": {},
   "source": [
    "# Modulos \n",
    "\n",
    "Si se desea que dicho proyecto de software se complete con éxito, se deben tener los medios que permitan:\n",
    "+ Dividir todas las tareas entre los desarrolladores.\n",
    "+ Después, unir todas las partes creadas en un todo funcional.\n",
    "\n",
    "Por ejemplo, un determinado proyecto se puede dividir en dos partes principales:\n",
    "\n",
    "+ La interfaz de usuario (la parte que se comunica con el usuario mediante widgets y una pantalla gráfica).\n",
    "+ La lógica (la parte que procesa los datos y produce resultados).\n",
    "\n",
    "Cada una de estas partes se puede (muy probablemente) dividir en otras más pequeñas, y así sucesivamente. Tal proceso a menudo se denomina ``descomposición.``\n",
    "\n",
    "#### Los modulos son la divicion de una pieza de software."
   ]
  },
  {
   "cell_type": "markdown",
   "metadata": {},
   "source": [
    "Los modulos pueden ser propios o importados \n",
    "\n",
    "[https://docs.python.org/3/library/index.html.](https://docs.python.org/3/library/index.html)\n",
    "\n",
    "Cada módulo consta de entidades (como un libro consta de capítulos). Estas entidades pueden ser funciones, variables, constantes, clases y objetos. Si se sabe como acceder a un módulo en particular, se puede utilizar cualquiera de las entidades que almacena.\n",
    "\n",
    "![https://edube.org/uploads/media/default/0001/02/PE2_source_file_ESP_1.1.1.2_2_ESP_PE2_.png](https://edube.org/uploads/media/default/0001/02/PE2_source_file_ESP_1.1.1.2_2_ESP_PE2_.png)"
   ]
  },
  {
   "cell_type": "markdown",
   "metadata": {},
   "source": [
    "#### Importando modulos\n",
    "\n",
    "```py \n",
    "import nombreModulo, others\n",
    "\n",
    "from nombreModulo import methodOrFunction\n",
    "\n",
    "from nombreModulo import methodOrFunction as name\n",
    "\n",
    " import Module as name\n",
    "\n",
    "from module import *  #importa todo el modulo\n",
    "\n",
    "from module import my_function as fun, my_data as dat \n",
    "\n",
    "```"
   ]
  },
  {
   "cell_type": "code",
   "execution_count": 6,
   "metadata": {},
   "outputs": [
    {
     "name": "stdout",
     "output_type": "stream",
     "text": [
      "3.141592653589793\n",
      "1.0\n"
     ]
    }
   ],
   "source": [
    "from math import pi as lol\n",
    "from math import sin\n",
    "\n",
    "print(lol)\n",
    "print(sin(lol/2))\n",
    "\n"
   ]
  },
  {
   "cell_type": "code",
   "execution_count": 8,
   "metadata": {},
   "outputs": [
    {
     "data": {
      "text/plain": [
       "['__doc__',\n",
       " '__loader__',\n",
       " '__name__',\n",
       " '__package__',\n",
       " '__spec__',\n",
       " 'acos',\n",
       " 'acosh',\n",
       " 'asin',\n",
       " 'asinh',\n",
       " 'atan',\n",
       " 'atan2',\n",
       " 'atanh',\n",
       " 'ceil',\n",
       " 'comb',\n",
       " 'copysign',\n",
       " 'cos',\n",
       " 'cosh',\n",
       " 'degrees',\n",
       " 'dist',\n",
       " 'e',\n",
       " 'erf',\n",
       " 'erfc',\n",
       " 'exp',\n",
       " 'expm1',\n",
       " 'fabs',\n",
       " 'factorial',\n",
       " 'floor',\n",
       " 'fmod',\n",
       " 'frexp',\n",
       " 'fsum',\n",
       " 'gamma',\n",
       " 'gcd',\n",
       " 'hypot',\n",
       " 'inf',\n",
       " 'isclose',\n",
       " 'isfinite',\n",
       " 'isinf',\n",
       " 'isnan',\n",
       " 'isqrt',\n",
       " 'lcm',\n",
       " 'ldexp',\n",
       " 'lgamma',\n",
       " 'log',\n",
       " 'log10',\n",
       " 'log1p',\n",
       " 'log2',\n",
       " 'modf',\n",
       " 'nan',\n",
       " 'nextafter',\n",
       " 'perm',\n",
       " 'pi',\n",
       " 'pow',\n",
       " 'prod',\n",
       " 'radians',\n",
       " 'remainder',\n",
       " 'sin',\n",
       " 'sinh',\n",
       " 'sqrt',\n",
       " 'tan',\n",
       " 'tanh',\n",
       " 'tau',\n",
       " 'trunc',\n",
       " 'ulp']"
      ]
     },
     "execution_count": 8,
     "metadata": {},
     "output_type": "execute_result"
    }
   ],
   "source": [
    "import math\n",
    "\n",
    "#La funcion dir nos muestra el nombre de las entidades\n",
    "# contenidas en un modulo\n",
    "dir(math)"
   ]
  },
  {
   "cell_type": "markdown",
   "metadata": {},
   "source": [
    "El primer grupo de funciones de módulo math están relacionadas con trigonometría:\n",
    "\n",
    "    sin(x) → el seno de x.\n",
    "    cos(x) → el coseno de x.\n",
    "    tan(x) → la tangente de x.\n",
    "\n",
    "Todas estas funciones toman un argumento (una medida de ángulo expresada en radianes) y devuelven el resultado apropiado (ten cuidado con tan() - no todos los argumentos son aceptados).\n",
    "\n",
    "Por supuesto, también están sus versiones inversas:\n",
    "\n",
    "    asin(x) → el arcoseno de x.\n",
    "    acos(x) → el arcocoseno de x.\n",
    "    atan(x) → el arcotangente de x.\n",
    "\n",
    "Para trabajar eficazmente con mediciones de ángulos, el módulo math proporciona las siguientes entidades:\n",
    "\n",
    "    pi → una constante con un valor que es una aproximación de π.\n",
    "    radians(x) → una función que convierte x de grados a radianes.\n",
    "    degrees(x) → una función que convierte x de radianes a grados.\n",
    "\n",
    "Además de las funciones circulares (enumeradas anteriormente), el módulo math también contiene un conjunto de sus análogos hiperbólicos:\n",
    "\n",
    "    sinh(x) → el seno hiperbólico.\n",
    "    cosh(x) → el coseno hiperbólico.\n",
    "    tanh(x) → la tangente hiperbólico.\n",
    "    asinh(x) → el arcoseno hiperbólico.\n",
    "    acosh(x) → el arcocoseno hiperbólico.\n",
    "    atanh(x) → el arcotangente hiperbólico."
   ]
  },
  {
   "cell_type": "code",
   "execution_count": 9,
   "metadata": {},
   "outputs": [
    {
     "name": "stdout",
     "output_type": "stream",
     "text": [
      "True\n",
      "True\n",
      "True\n",
      "True\n"
     ]
    }
   ],
   "source": [
    "from math import pi, radians, degrees, sin, cos, tan, asin\n",
    "\n",
    "ad = 90\n",
    "ar = radians(ad)\n",
    "ad = degrees(ar)\n",
    "\n",
    "print(ad == 90.)\n",
    "print(ar == pi / 2.)\n",
    "print(sin(ar) / cos(ar) == tan(ar))\n",
    "print(asin(sin(ar)) == ar)\n"
   ]
  },
  {
   "cell_type": "markdown",
   "metadata": {},
   "source": [
    "Existe otro grupo de las funciones math relacionadas con la exponenciación:\n",
    "\n",
    "    e → una constante con un valor que es una aproximación del número de Euler (e).\n",
    "    exp(x) → encontrar el valor de ex.\n",
    "    log(x) → el logaritmo natural de x.\n",
    "    log(x, b) → el logaritmo de x con base b.\n",
    "    log10(x) → el logaritmo decimal de x (más preciso que log(x, 10)).\n",
    "    log2(x) → el logaritmo binario de x (más preciso que log(x, 2)).\n",
    "Nota: la función pow():\n",
    "\n",
    "pow(x, y) → encuentra el valor de xy (toma en cuenta los dominios).\n",
    "Esta es una función incorporada y no se tiene que importar."
   ]
  },
  {
   "cell_type": "code",
   "execution_count": 10,
   "metadata": {},
   "outputs": [
    {
     "name": "stdout",
     "output_type": "stream",
     "text": [
      "True\n",
      "True\n",
      "True\n"
     ]
    }
   ],
   "source": [
    "from math import e, exp, log\n",
    "\n",
    "print(pow(e, 1) == exp(log(e)))\n",
    "print(pow(2, 2) == exp(2 * log(2)))\n",
    "print(log(e, e) == exp(0))\n"
   ]
  },
  {
   "cell_type": "markdown",
   "metadata": {},
   "source": [
    "    ceil(x) → devuelve el entero más pequeño mayor o igual que x.\n",
    "    floor(x) → el entero más grande menor o igual que x.\n",
    "    trunc(x) → el valor de x truncado a un entero (ten cuidado, no es equivalente a ceil o floor).\n",
    "    factorial(x) → devuelve x! (x tiene que ser un valor entero y no negativo).\n",
    "    hypot(x, y) → devuelve la longitud de la hipotenusa de un triángulo rectángulo con las longitudes de los catetos iguales a (x) y (y) (lo mismo que sqrt(pow(x, 2) + pow(y, 2)) pero más preciso)."
   ]
  },
  {
   "cell_type": "code",
   "execution_count": 11,
   "metadata": {},
   "outputs": [
    {
     "name": "stdout",
     "output_type": "stream",
     "text": [
      "1 2\n",
      "-2 -3\n",
      "2 3\n",
      "-1 -2\n",
      "1 2\n",
      "-1 -2\n"
     ]
    }
   ],
   "source": [
    "from math import ceil, floor, trunc\n",
    "\n",
    "x = 1.4\n",
    "y = 2.6\n",
    "\n",
    "print(floor(x), floor(y))\n",
    "print(floor(-x), floor(-y))\n",
    "print(ceil(x), ceil(y))\n",
    "print(ceil(-x), ceil(-y))\n",
    "print(trunc(x), trunc(y))\n",
    "print(trunc(-x), trunc(-y))\n"
   ]
  },
  {
   "cell_type": "markdown",
   "metadata": {},
   "source": [
    "```py\n",
    "from random import random\n",
    "\n",
    "for i in range(5):\n",
    "    print(random())\n",
    "``` \n",
    "    randrange(fin)\n",
    "    randrange(inico, fin)\n",
    "    randrange(inicio, fin, incremento)\n",
    "    randint(izquierda, derecha)"
   ]
  },
  {
   "cell_type": "code",
   "execution_count": 13,
   "metadata": {},
   "outputs": [
    {
     "name": "stdout",
     "output_type": "stream",
     "text": [
      "4,5,9,7,8,10,9,10,6,2,"
     ]
    }
   ],
   "source": [
    "from random import randint\n",
    "\n",
    "for i in range(10):\n",
    "    print(randint(1, 10), end=',')\n",
    "\n"
   ]
  },
  {
   "cell_type": "markdown",
   "metadata": {},
   "source": [
    "Es una función con el nombre de choice:\n",
    "\n",
    "    choice(secuencia)\n",
    "    sample(secuencia, elementos_a_elegir=1)\n",
    "\n",
    "La primera variante elige un elemento \"aleatorio\" de la secuencia de entrada y lo devuelve.\n",
    "\n",
    "El segundo crea una lista (una muestra) que consta del elemento elementos_a_elegir (que por defecto es 1) \"sorteado\" de la secuencia de entrada.\n",
    "\n",
    "En otras palabras, la función elige algunos de los elementos de entrada, devolviendo una lista con la elección. Los elementos de la muestra se colocan en orden aleatorio. Nota que elementos_a_elegir no debe ser mayor que la longitud de la secuencia de entrada."
   ]
  },
  {
   "cell_type": "code",
   "execution_count": 12,
   "metadata": {},
   "outputs": [
    {
     "name": "stdout",
     "output_type": "stream",
     "text": [
      "4\n",
      "[10, 9, 3, 2, 5]\n",
      "[10, 7, 9, 1, 5, 3, 4, 6, 2, 8]\n"
     ]
    }
   ],
   "source": [
    "from random import choice, sample\n",
    "\n",
    "my_list = [1, 2, 3, 4, 5, 6, 7, 8, 9, 10]\n",
    "\n",
    "print(choice(my_list))\n",
    "print(sample(my_list, 5))\n",
    "print(sample(my_list, 10))\n",
    "\n"
   ]
  },
  {
   "cell_type": "code",
   "execution_count": null,
   "metadata": {},
   "outputs": [],
   "source": [
    "print(dir(str))\n",
    "\n",
    "'lol'.center(15)"
   ]
  },
  {
   "cell_type": "code",
   "execution_count": 26,
   "metadata": {},
   "outputs": [
    {
     "name": "stdout",
     "output_type": "stream",
     "text": [
      "Windows-10-10.0.19043-SP0\n",
      "Windows-10-10.0.19043-SP0\n",
      "Windows-10\n",
      "AMD64\n",
      "AMD64 Family 23 Model 24 Stepping 1, AuthenticAMD\n",
      "Windows\n",
      "10.0.19043\n"
     ]
    }
   ],
   "source": [
    "from platform import platform,machine,processor,system, version\n",
    "\n",
    "print(platform()) #plataforma OS\n",
    "print(platform(1))\n",
    "print(platform(0, 1))\n",
    "\n",
    "print(machine()) #Arquitectura \n",
    "\n",
    "print(processor()) #info procesador\n",
    "\n",
    "print(system()) #string os\n",
    "\n",
    "print(version()) #string version os"
   ]
  },
  {
   "cell_type": "code",
   "execution_count": 27,
   "metadata": {},
   "outputs": [
    {
     "name": "stdout",
     "output_type": "stream",
     "text": [
      "CPython\n",
      "3\n",
      "10\n",
      "7\n"
     ]
    }
   ],
   "source": [
    "from platform import python_implementation, python_version_tuple\n",
    "\n",
    "print(python_implementation())\n",
    "\n",
    "for atr in python_version_tuple():\n",
    "    print(atr)"
   ]
  },
  {
   "cell_type": "markdown",
   "metadata": {},
   "source": [
    "[https://docs.python.org/3/py-modindex.html.](https://docs.python.org/3/py-modindex.html.)"
   ]
  },
  {
   "cell_type": "markdown",
   "metadata": {},
   "source": [
    "# Paquetes en python\n",
    "\n",
    "![https://edube.org/uploads/media/default/0001/02/PE2_source_file_ESP_1.3.1.1_ESP_PE2_.png](https://edube.org/uploads/media/default/0001/02/PE2_source_file_ESP_1.3.1.1_ESP_PE2_.png)"
   ]
  },
  {
   "cell_type": "markdown",
   "metadata": {},
   "source": [
    "Si se desea cambiar los permisos de una variable de un modulo.\n",
    "\n",
    "Solo puedes informar a tus usuarios que esta es tu variable, que pueden leerla, pero que no deben modificarla bajo ninguna circunstancia.\n",
    "\n",
    "Esto se hace anteponiendo al nombre de la variable _ (un guión bajo) o __ (dos guiones bajos), pero recuerda, es solo un acuerdo. Los usuarios de tu módulo pueden obedecerlo o no."
   ]
  },
  {
   "cell_type": "markdown",
   "metadata": {},
   "source": [
    "```py\n",
    "#!/usr/bin/env python3 \n",
    "```\n",
    "\n",
    "    La línea que comienza con #! tiene muchos nombres - puede ser llamada shabang, shebang, hashbang, poundbang o incluso hashpling (no nos preguntes por qué). El nombre en sí no significa nada aquí, su papel es más importante. Desde el punto de vista de Python, es solo un comentario debido a que comienza con #. Para sistemas operativos Unix y similares a Unix (incluido MacOS), dicha línea indica al sistema operativo como ejecutar el contenido del archivo (en otras palabras, que programa debe ejecutarse para interpretar el texto). En algunos entornos (especialmente aquellos conectados con servidores web) la ausencia de esa línea causará problemas."
   ]
  }
 ],
 "metadata": {
  "kernelspec": {
   "display_name": "Python 3.10.7 64-bit",
   "language": "python",
   "name": "python3"
  },
  "language_info": {
   "codemirror_mode": {
    "name": "ipython",
    "version": 3
   },
   "file_extension": ".py",
   "mimetype": "text/x-python",
   "name": "python",
   "nbconvert_exporter": "python",
   "pygments_lexer": "ipython3",
   "version": "3.10.7"
  },
  "orig_nbformat": 4,
  "vscode": {
   "interpreter": {
    "hash": "517610d243745608059699b3a823bb813ac8871a0543351768afd7726f52dfec"
   }
  }
 },
 "nbformat": 4,
 "nbformat_minor": 2
}
