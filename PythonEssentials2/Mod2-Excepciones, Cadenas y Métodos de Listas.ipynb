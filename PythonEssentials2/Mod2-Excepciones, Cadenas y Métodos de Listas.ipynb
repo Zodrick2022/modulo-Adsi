{
 "cells": [
  {
   "cell_type": "code",
   "execution_count": null,
   "metadata": {},
   "outputs": [],
   "source": []
  }
 ],
 "metadata": {
  "kernelspec": {
   "display_name": "Python 3.10.7 64-bit",
   "language": "python",
   "name": "python3"
  },
  "language_info": {
   "name": "python",
   "version": "3.10.7"
  },
  "orig_nbformat": 4,
  "vscode": {
   "interpreter": {
    "hash": "517610d243745608059699b3a823bb813ac8871a0543351768afd7726f52dfec"
   }
  }
 },
 "nbformat": 4,
 "nbformat_minor": 2
}
