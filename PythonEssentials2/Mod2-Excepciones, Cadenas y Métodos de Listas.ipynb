{
 "cells": [
  {
   "cell_type": "markdown",
   "metadata": {},
   "source": [
    "# Mod2-Excepciones, Cadenas y Métodos de Listas"
   ]
  },
  {
   "cell_type": "markdown",
   "metadata": {},
   "source": [
    "#### Operaciones con cadenas: ord()\n",
    "Si deseas saber el valor del punto de código ASCII/UNICODE de un carácter específico, puedes usar la función ord() (proveniente de ordinal).\n",
    "\n",
    "La función necesita una cadena de un carácter como argumento - incumplir este requisito provoca una excepción TypeError, y devuelve un número que representa el punto de código del argumento.\n",
    "\n",
    "```py\n",
    "char_1 = 'a'\n",
    "char_2 = ' '  # space\n",
    "\n",
    "print(ord(char_1)) #97\n",
    "print(ord(char_2)) #32\n",
    "```\n",
    "Si conoces el punto de código (número) y deseas obtener el carácter correspondiente, \n",
    "puedes usar la función `llamada chr().`\n",
    "\n",
    "La función toma un punto de código y devuelve su carácter.\n",
    "```py\n",
    "print(chr(97))\n",
    "print(chr(945))\n",
    "```"
   ]
  },
  {
   "cell_type": "code",
   "execution_count": null,
   "metadata": {},
   "outputs": [],
   "source": [
    "alphabet = \"abcdefghijklmnopqrstuvwxyz\"\n",
    "\n",
    "print(\"f\" in alphabet)\n",
    "print(\"F\" in alphabet)\n",
    "print(\"F\" not in alphabet)\n",
    "print(\"1\" not in alphabet)"
   ]
  },
  {
   "cell_type": "code",
   "execution_count": null,
   "metadata": {},
   "outputs": [],
   "source": [
    "alphabet = \"bcdefghijklmnopqrstuvwxy\"\n",
    "\n",
    "alphabet = \"a\" + alphabet\n",
    "alphabet = alphabet + \"z\"\n",
    "\n",
    "print(alphabet)"
   ]
  },
  {
   "cell_type": "markdown",
   "metadata": {},
   "source": [
    "Operaciones con cadenas: el método index()\n",
    "El método index() (es un método, no una función) busca la secuencia desde el principio, para encontrar el primer elemento del valor especificado en su argumento."
   ]
  },
  {
   "cell_type": "code",
   "execution_count": 1,
   "metadata": {},
   "outputs": [
    {
     "name": "stdout",
     "output_type": "stream",
     "text": [
      "2\n",
      "7\n",
      "1\n"
     ]
    }
   ],
   "source": [
    "# Demonstrando el método index():\n",
    "print(\"aAbByYzZaA\".index(\"b\"))\n",
    "print(\"aAbByYzZaA\".index(\"Z\"))\n",
    "print(\"aAbByYzZaA\".index(\"A\"))"
   ]
  },
  {
   "cell_type": "markdown",
   "metadata": {},
   "source": [
    "#### Operaciones con cadenas: el método count()\n",
    "El método count() cuenta todas las apariciones del elemento dentro de la secuencia. La ausencia de tal elemento no causa ningún problema.\n",
    "\n",
    "Observa el segundo ejemplo en el editor. ¿Puedes adivinar su salida?"
   ]
  },
  {
   "cell_type": "code",
   "execution_count": null,
   "metadata": {},
   "outputs": [],
   "source": [
    "# Demostración de la función list():\n",
    "print(list(\"abcabc\"))\n",
    "\n",
    "# Demostración de la función list():\n",
    "print(\"abcabc\".count(\"b\"))\n",
    "print('abcabc'.count(\"d\"))"
   ]
  },
  {
   "cell_type": "code",
   "execution_count": null,
   "metadata": {},
   "outputs": [],
   "source": [
    "\n",
    "print('aBcD'.capitalize())"
   ]
  },
  {
   "cell_type": "code",
   "execution_count": null,
   "metadata": {},
   "outputs": [],
   "source": [
    "# Demostración del método center():\n",
    "print('[' + 'alpha'.center(10,'*') + ']')\n"
   ]
  },
  {
   "cell_type": "markdown",
   "metadata": {},
   "source": [
    "#### El método endswith()\n",
    " comprueba si la cadena dada termina con el argumento especificado y devuelve True(verdadero) o False(falso), dependiendo del resultado."
   ]
  },
  {
   "cell_type": "code",
   "execution_count": null,
   "metadata": {},
   "outputs": [],
   "source": [
    "t = \"zeta\"\n",
    "print(t.endswith(\"a\"))\n",
    "print(t.endswith(\"A\"))\n",
    "print(t.endswith(\"et\"))\n",
    "print(t.endswith(\"eta\"))\n",
    "\n"
   ]
  },
  {
   "cell_type": "markdown",
   "metadata": {},
   "source": [
    "#### El método find() \n",
    "es similar al método index(), el cual ya conoces - busca una subcadena y devuelve el índice de la primera aparición de esta subcadena, pero:"
   ]
  },
  {
   "cell_type": "code",
   "execution_count": null,
   "metadata": {},
   "outputs": [],
   "source": [
    "t = 'theta'\n",
    "print(t.find('eta'))\n",
    "print(t.find('et'))\n",
    "print(t.find('the'))\n",
    "print(t.find('ha'))\n",
    "\n"
   ]
  },
  {
   "cell_type": "markdown",
   "metadata": {},
   "source": [
    "#### El método sin parámetros llamado isalnum()\n",
    " comprueba si la cadena contiene solo dígitos o caracteres alfabéticos (letras) y devuelve True(verdadero) o False(falso) de acuerdo al resultado."
   ]
  },
  {
   "cell_type": "code",
   "execution_count": null,
   "metadata": {},
   "outputs": [],
   "source": [
    "# Demostración del método the isalnum():\n",
    "print('lambda30'.isalnum())\n",
    "print('lambda'.isalnum())\n",
    "print('30'.isalnum())\n",
    "print('@'.isalnum())\n",
    "print('lambda_30'.isalnum())\n",
    "print(''.isalnum())\n"
   ]
  },
  {
   "cell_type": "markdown",
   "metadata": {},
   "source": [
    "##### El método isalpha()\n",
    "El método isalpha() es más especializado, se interesa en letras solamente.\n",
    "\n",
    "\n",
    "#### El método isdigit()\n",
    "Al contrario, el método isdigit() busca solo dígitos - cualquier otra cosa produce False(falso) como resultado."
   ]
  },
  {
   "cell_type": "code",
   "execution_count": null,
   "metadata": {},
   "outputs": [],
   "source": [
    "# Ejemplo 1: Demostración del método isapha():\n",
    "print(\"Moooo\".isalpha())\n",
    "print('Mu40'.isalpha())\n",
    "\n",
    "# Ejemplo 2: Demostración del método isdigit():\n",
    "print('2018'.isdigit())\n",
    "print(\"Year2019\".isdigit())\n"
   ]
  },
  {
   "cell_type": "markdown",
   "metadata": {},
   "source": [
    "##### El método islower()\n",
    " es una variante de isalpha() - solo acepta letras minúsculas\n",
    "\n",
    "##### El método isspace()\n",
    "El método isspace() identifica espacios en blanco solamente - no tiene en cuenta ningún otro carácter (el resultado es entonces False).\n",
    "\n",
    "##### El método isupper()\n",
    "El método isupper() es la versión en mayúscula de islower() - se concentra solo en letras mayúsculas."
   ]
  },
  {
   "cell_type": "code",
   "execution_count": null,
   "metadata": {},
   "outputs": [],
   "source": [
    "# Ejemplo 1: Demostración del método islower():\n",
    "print(\"Moooo\".islower())\n",
    "print('moooo'.islower())\n",
    "\n",
    "# Ejemplo 2: Demostración del método isspace(:\n",
    "print(' \\n '.isspace())\n",
    "print(\" \".isspace())\n",
    "print(\"mooo mooo mooo\".isspace())\n",
    "\n",
    "# Ejemplo 3: Demostración del método isupper():\n",
    "print(\"Moooo\".isupper())\n",
    "print('moooo'.isupper())\n",
    "print('MOOOO'.isupper())\n"
   ]
  },
  {
   "cell_type": "markdown",
   "metadata": {},
   "source": [
    "#### El método join()\n",
    " es algo complicado, así que déjanos guiarte paso a paso:\n",
    "\n",
    "Como su nombre lo indica, el método realiza una unión y espera un argumento del tipo lista; se debe asegurar que todos los elementos de la lista sean cadenas: de lo contrario, el método generará una excepción TypeError.\n",
    "Todos los elementos de la lista serán unidos en una sola cadena pero...\n",
    "... la cadena desde la que se ha invocado el método será utilizada como separador, puesta entre las cadenas.\n",
    "La cadena recién creada se devuelve como resultado.\n"
   ]
  },
  {
   "cell_type": "code",
   "execution_count": null,
   "metadata": {},
   "outputs": [],
   "source": [
    "# Demonstrating the join() method:\n",
    "print(\",\".join([\"omicron\", \"pi\", \"rho\"]))\n"
   ]
  },
  {
   "cell_type": "code",
   "execution_count": null,
   "metadata": {},
   "outputs": [],
   "source": [
    "# Demostración del método lower():\n",
    "print(\"SiGmA=60\".lower())"
   ]
  },
  {
   "cell_type": "code",
   "execution_count": null,
   "metadata": {},
   "outputs": [],
   "source": [
    "print(\"www.cisco.com\".lstrip(\"w.\"))"
   ]
  },
  {
   "cell_type": "markdown",
   "metadata": {},
   "source": [
    "##### El método replace() \n",
    "con dos parámetros devuelve una copia de la cadena original en la que todas las apariciones del primer argumento han sido reemplazadas por el segundo argumento.\n",
    "\n",
    "La variante del método replace() con tres parámetros emplea un tercer argumento (un número) para limitar el número de reemplazos."
   ]
  },
  {
   "cell_type": "code",
   "execution_count": null,
   "metadata": {},
   "outputs": [],
   "source": [
    "# Demostración del método replace():\n",
    "print(\"www.netacad.com\".replace(\"netacad.com\", \"pythoninstitute.org\"))\n",
    "print(\"This is it!\".replace(\"is\", \"are\", 1))\n",
    "print(\"This is it!\".replace(\"is\", \"are\", 2))\n",
    "\n",
    "\n"
   ]
  },
  {
   "cell_type": "markdown",
   "metadata": {},
   "source": [
    "Los métodos de uno, dos y tres parámetros denominados rfind() hacen casi lo mismo que sus contrapartes (las que carecen del prefijo r), pero comienzan sus búsquedas desde el final de la cadena, no el principio (de ahí el prefijo r, de reversa).\n",
    "\n",
    "\n",
    "Dos variantes del método rstrip() hacen casi lo mismo que el método lstrip, pero afecta el lado opuesto de la cadena.\n",
    "```py\n",
    "# Demostración del método rfind():\n",
    "print(\"tau tau tau\".rfind(\"ta\"))\n",
    "print(\"tau tau tau\".rfind(\"ta\", 9))\n",
    "print(\"tau tau tau\".rfind(\"ta\", 3, 9))\n",
    "\n",
    "# Demostración del método rstrip():\n",
    "print(\"[\" + \" upsilon \".rstrip() + \"]\")\n",
    "print(\"cisco.com\".rstrip(\".com\"))\n",
    "\n",
    "\n",
    "```"
   ]
  },
  {
   "cell_type": "markdown",
   "metadata": {},
   "source": [
    "##### El método split()\n",
    "El método split() divide la cadena y crea una lista de todas las subcadenas detectadas.\n",
    "\n",
    "El método asume que las subcadenas están delimitadas por espacios en blanco - los espacios no participan en la operación y no se copian en la lista resultante."
   ]
  },
  {
   "cell_type": "code",
   "execution_count": null,
   "metadata": {},
   "outputs": [],
   "source": [
    "# Demostración del método split():\n",
    "print(\"phi       chi\\npsi\".split())\n"
   ]
  },
  {
   "cell_type": "markdown",
   "metadata": {},
   "source": [
    "El método startswith() es un espejo del método endswith() - comprueba si una cadena dada comienza con la subcadena especificada."
   ]
  },
  {
   "cell_type": "code",
   "execution_count": null,
   "metadata": {},
   "outputs": [],
   "source": [
    "# Demostración del método startswith():\n",
    "print(\"omega\".startswith(\"meg\"))\n",
    "print(\"omega\".startswith(\"om\"))\n",
    "\n",
    "print()\n",
    "\n",
    "# Demostración del método strip():\n",
    "print(\"[\" + \"   aleph   \".strip() + \"]\")\n"
   ]
  },
  {
   "cell_type": "code",
   "execution_count": null,
   "metadata": {},
   "outputs": [],
   "source": [
    "# Demostración del método swapcase():\n",
    "print(\"Yo sé que no sé nada.\".swapcase())\n",
    "\n",
    "print()\n",
    "\n",
    "# Demostración del método title():\n",
    "print(\"Yo sé que no sé nada. Part 1.\".title())\n",
    "\n",
    "print()\n",
    "\n",
    "# Demostración del método upper():\n",
    "print(\"Yo sé que no sé nada. Part 2.\".upper())\n"
   ]
  },
  {
   "cell_type": "markdown",
   "metadata": {},
   "source": [
    "```py\n",
    "def mysplit(strng):\n",
    "    # devolver [] si la cadena está vacía o solo contiene espacios en blanco\n",
    "    \n",
    "    # preparar una lista para devolver\n",
    "\n",
    "    # preparar una palabra para construir palabras subsecuentes\n",
    "\n",
    "    # verificar si actualmente estamos dentro de una palabra (es decir, si la cadena comienza con una palabra)\n",
    "\n",
    "    # iterar a través de todos los caracteres en cadena\n",
    "\n",
    "        # si actualmente estamos dentro de una cadena ...\n",
    "\n",
    "            # ... y el carácter actual no es un espacio ...\n",
    "\n",
    "                # ... actualizar palabra actual\n",
    "\n",
    "                # ... de lo contrario, llegamos al final de la palabra, por lo que debemos agregarla a la lista ...\n",
    "\n",
    "                # ... y señalar que estamos ahora fuera de la palabra\n",
    "\n",
    "            # si estamos fuera de la palabra y llegamos a un carácter no que no es un espacio en blanco\n",
    "\n",
    "                # ... significa que ha comenzado una nueva palabra, por lo que debemos recordarla y ...\n",
    "\n",
    "                # ... almacenar la primera letra de la nueva palabra\n",
    "\n",
    "    # si hemos dejado la cadena y hay una cadena no vacía en la palabra, necesitamos actualizar la lista\n",
    "\n",
    "    # devolver la lista al invocador\n"
   ]
  },
  {
   "cell_type": "code",
   "execution_count": null,
   "metadata": {},
   "outputs": [],
   "source": [
    "def mysplit(strng):\n",
    "    # devolver [] si la cadena está vacía o solo contiene espacios en blanco\n",
    "    if strng == '' or strng.isspace():\n",
    "        return [ ]\n",
    "    # preparar una lista para devolver\n",
    "    lst = []\n",
    "    # preparar una palabra para construir palabras subsecuentes\n",
    "    word = ''\n",
    "    # verificar si actualmente estamos dentro de una palabra (es decir, si la cadena comienza con una palabra)\n",
    "    inword = not strng[0].isspace()\n",
    "    # iterar a través de todos los caracteres en cadena\n",
    "    for x in strng:\n",
    "         # si actualmente estamos dentro de una cadena ...\n",
    "        if inword:\n",
    "            # ... y el carácter actual no es un espacio ...\n",
    "            if not x.isspace():\n",
    "                # ... actualizar palabra actual\n",
    "                word = word + x\n",
    "            else:\n",
    "                # ... de lo contrario, llegamos al final de la palabra, por lo que debemos agregarla a la lista ...\n",
    "                lst.append(word)\n",
    "                # ... y señalar que estamos ahora fuera de la palabra\n",
    "                inword = False\n",
    "        else:\n",
    "            # si estamos fuera de la palabra y llegamos a un carácter no que no es un espacio en blanco\n",
    "            if not x.isspace():\n",
    "                # ... significa que ha comenzado una nueva palabra, por lo que debemos recordarla y ...\n",
    "                inword = True\n",
    "                 # ... almacenar la primera letra de la nueva palabra\n",
    "                word = x\n",
    "            else:\n",
    "                pass\n",
    "       # si hemos dejado la cadena y hay una cadena no vacía en la variable word, necesitamos actualizar la lista\n",
    "    if inword:\n",
    "        lst.append(word)\n",
    "    # devolver la lista a invocador\n",
    "    return lst"
   ]
  },
  {
   "cell_type": "code",
   "execution_count": null,
   "metadata": {},
   "outputs": [],
   "source": [
    "def mysplit(strng):\n",
    "    if type(strng)==str:\n",
    "        lista=[]\n",
    "        for i in range(len(strng)):\n",
    "            print(strng[i])\n",
    "            if strng[i]==\" \":\n",
    "                lista.append(strng[:i])\n",
    "                strng=strng[i+1:]\n",
    "                return lista   \n",
    "            \n",
    "    else:\n",
    "        exception = TypeError(\"El argumento debe ser una cadena\")\n",
    "        raise exception\n",
    "\n",
    "\n",
    "print(mysplit(\"Ser o no ser, esa es la pregunta\"))\n",
    "print(mysplit(\"Ser o no ser,esa es la pregunta\"))\n",
    "print(mysplit(\"   \"))\n",
    "print(mysplit(\" abc \"))\n",
    "print(mysplit(''))\n"
   ]
  },
  {
   "cell_type": "code",
   "execution_count": 38,
   "metadata": {},
   "outputs": [],
   "source": [
    "\n",
    "\n",
    "def writefile(filename, content):\n",
    "    try:\n",
    "        with open(filename, \"w\") as f:\n",
    "            f.write(content)\n",
    "    except:\n",
    "        print(\"Error al escribir el archivo\")\n",
    "\n",
    "writefile(\"test.txt\", \"Hola mundo\")\n"
   ]
  },
  {
   "cell_type": "code",
   "execution_count": null,
   "metadata": {},
   "outputs": [],
   "source": [
    "def udpatefile(filename, content):\n",
    "    try:\n",
    "        with open(filename, \"a\") as f:\n",
    "            f.write(content)\n",
    "    except:\n",
    "        print(\"Error al escribir el archivo\")\n",
    "\n",
    "udpatefile(\"test.txt\", \"Hola mundo\")"
   ]
  },
  {
   "cell_type": "code",
   "execution_count": 41,
   "metadata": {},
   "outputs": [
    {
     "name": "stdout",
     "output_type": "stream",
     "text": [
      "Hola mundo\n"
     ]
    }
   ],
   "source": [
    "def printcontent(filename):\n",
    "    try:\n",
    "        with open(filename, \"r\") as f:\n",
    "            print(f.read())\n",
    "    except:\n",
    "        print(\"Error al leer el archivo\")\n",
    "\n",
    "printcontent(\"test.txt\")"
   ]
  },
  {
   "cell_type": "code",
   "execution_count": 47,
   "metadata": {},
   "outputs": [
    {
     "name": "stdout",
     "output_type": "stream",
     "text": [
      "5\n"
     ]
    }
   ],
   "source": [
    "def find_max(numbs):\n",
    "    max_num = float(\"-inf\")\n",
    "    for num in numbs:\n",
    "        if num > max_num:\n",
    "            max_num = num\n",
    "    return max_num\n",
    "\n",
    "print(find_max([1, 2, 3, 4, 5]))"
   ]
  }
 ],
 "metadata": {
  "kernelspec": {
   "display_name": "Python 3.8.2 64-bit",
   "language": "python",
   "name": "python3"
  },
  "language_info": {
   "codemirror_mode": {
    "name": "ipython",
    "version": 3
   },
   "file_extension": ".py",
   "mimetype": "text/x-python",
   "name": "python",
   "nbconvert_exporter": "python",
   "pygments_lexer": "ipython3",
   "version": "3.8.2"
  },
  "orig_nbformat": 4,
  "vscode": {
   "interpreter": {
    "hash": "0adcc2737ebf6a4a119f135174df96668767fca1ef1112612db5ecadf2b6d608"
   }
  }
 },
 "nbformat": 4,
 "nbformat_minor": 2
}
