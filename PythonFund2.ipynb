{
 "cells": [
  {
   "cell_type": "markdown",
   "metadata": {},
   "source": [
    "# Python Fundamentos 2\n"
   ]
  },
  {
   "cell_type": "markdown",
   "metadata": {},
   "source": [
    "### Tipos de datos \n",
    "\n",
    "Ejemplos de tipos de datos:\n",
    "\n",
    "```py\n",
    "\n",
    "\n",
    "Text        Type:\tstr\n",
    "Numeric     Types:\tint, float, complex\n",
    "Sequence    Types:\tlist, tuple, range\n",
    "Mapping     Type:\tdict\n",
    "Set         Types:\tset, frozenset\n",
    "Boolean     Type:\tbool\n",
    "Binary      Types:\tbytes, bytearray, memoryview\n",
    "None        Type:\tNoneType\n",
    "\n",
    "\n",
    "\n",
    "\n",
    "#Setting the Data Type\n",
    "#In Python, the data type is set when you assign a value to a variable:\n",
    "\n",
    "Example\t                                      Data Type\t            \n",
    "x = \"Hello World\"                               str\t\n",
    "x = 20                                          int\t\n",
    "x = 20.5                                        float\t\n",
    "x = 1j                                          complex\t\n",
    "x = [\"apple\", \"banana\", \"cherry\"]               list\t\n",
    "x = (\"apple\", \"banana\", \"cherry\")               tuple\t\n",
    "x = range(6)                                    range\t\n",
    "x = {\"name\" : \"John\", \"age\" : 36}               dict\t\n",
    "x = {\"apple\", \"banana\", \"cherry\"}               set\t\n",
    "x = frozenset({\"apple\", \"banana\", \"cherry\"})\tfrozenset\t\n",
    "x = True                                        bool\t\n",
    "x = b\"Hello\"                                    bytes\t\n",
    "x = bytearray(5)                                bytearray\t\n",
    "x = memoryview(bytes(5))                        memoryview\t\n",
    "x = None                                        NoneType\t\n",
    "\n",
    "#etting the Specific Data Type\n",
    "#If you want to specify the data type, you can use the following constructor functions:\n",
    "\n",
    "Example\t                               Data Type\t\n",
    "x = str(\"Hello World\")\t                  str\t\n",
    "x = int(20)\t                          int\t\n",
    "x = float(20.5)                           float\t\n",
    "x = complex(1j)\t                          complex\t\n",
    "x = list((\"apple\", \"banana\", \"cherry\"))   list\t\n",
    "x = tuple((\"apple\", \"banana\", \"cherry\"))  tuple\t\n",
    "x = range(6)                              range\t\n",
    "x = dict(name=\"John\", age=36)             dict\t\n",
    "x = set((\"apple\", \"banana\", \"cherry\"))\t  set\t\n",
    "x = frozenset((\"apple\", \"banana\", \"cherry\")) frozenset\t\n",
    "x = bool(5)                               bool\t\n",
    "x = bytes(5)\t                          bytes\t\n",
    "x = bytearray(5)                          bytearray\t\n",
    "x = memoryview(bytes(5))                  memoryview\n",
    "```"
   ]
  },
  {
   "cell_type": "code",
   "execution_count": null,
   "metadata": {},
   "outputs": [],
   "source": [
    "#Numeros aleatorios\n",
    "\n",
    "import random\n",
    "\n",
    "print(random.randrange(1, 10))"
   ]
  },
  {
   "cell_type": "markdown",
   "metadata": {},
   "source": [
    "### Strings y cadenas"
   ]
  },
  {
   "cell_type": "markdown",
   "metadata": {},
   "source": [
    "Las cadenas son matrices\n",
    "Como muchos otros lenguajes de programación populares, las cadenas en Python son matrices de bytes que representan caracteres Unicode.\n",
    "\n",
    "Sin embargo, Python no tiene un tipo de datos de caracteres, un solo carácter es simplemente una cadena con una longitud de 1.\n",
    "\n",
    "Se pueden usar corchetes para acceder a elementos de la cadena."
   ]
  },
  {
   "cell_type": "code",
   "execution_count": null,
   "metadata": {},
   "outputs": [],
   "source": [
    "a = \"Hello, World!\"\n",
    "print(a[1])"
   ]
  },
  {
   "cell_type": "code",
   "execution_count": null,
   "metadata": {},
   "outputs": [],
   "source": [
    "for x in \"banana\":\n",
    "  print(x)"
   ]
  },
  {
   "cell_type": "code",
   "execution_count": null,
   "metadata": {},
   "outputs": [],
   "source": [
    "#La función len() devuelve la longitud de una cadena:\n",
    "\n",
    "a = \"Hello, World!\"\n",
    "print(len(a))"
   ]
  },
  {
   "cell_type": "markdown",
   "metadata": {},
   "source": [
    "#### Comprobar cadena\n",
    "Para verificar si una determinada frase o carácter está presente en una cadena, podemos usar la palabra clave in."
   ]
  },
  {
   "cell_type": "code",
   "execution_count": null,
   "metadata": {},
   "outputs": [],
   "source": [
    "txt = \"The best things in life are free!\"\n",
    "print(\"free\" in txt)\n",
    "\n",
    "txt = \"The best things in life are free!\"\n",
    "print(\"expensive\" not in txt)"
   ]
  },
  {
   "cell_type": "markdown",
   "metadata": {},
   "source": [
    "#### Slicing\n",
    "\n",
    "Puede devolver un rango de caracteres utilizando la sintaxis de división.\n",
    "\n",
    "Especifique el índice inicial y el índice final, separados por dos puntos, para devolver una parte de la cadena."
   ]
  },
  {
   "cell_type": "code",
   "execution_count": null,
   "metadata": {},
   "outputs": [],
   "source": [
    "b = \"Hello, World!\"\n",
    "print(b[2:5])"
   ]
  },
  {
   "cell_type": "code",
   "execution_count": null,
   "metadata": {},
   "outputs": [],
   "source": [
    "#Consigue los personajes desde el inicio hasta la posición 5 (no incluidos):\n",
    "\n",
    "b = \"Hello, World!\"\n",
    "print(b[:5])"
   ]
  },
  {
   "cell_type": "code",
   "execution_count": null,
   "metadata": {},
   "outputs": [],
   "source": [
    "#Consigue los personajes desde la posición 2 y hasta el final:\n",
    "\n",
    "b = \"Hello, World!\"\n",
    "print(b[2:])"
   ]
  },
  {
   "cell_type": "code",
   "execution_count": null,
   "metadata": {},
   "outputs": [],
   "source": [
    "#Indexación negativa\n",
    "#Utilice índices negativos para iniciar el segmento desde el final de la cadena:\n",
    "b = \"Hello, World!\"\n",
    "print(b[-5:-2])"
   ]
  },
  {
   "cell_type": "markdown",
   "metadata": {},
   "source": [
    "#### Modificando cadenas"
   ]
  },
  {
   "cell_type": "code",
   "execution_count": 8,
   "metadata": {},
   "outputs": [
    {
     "name": "stdout",
     "output_type": "stream",
     "text": [
      "HELLO, WORLD!\n",
      "\n",
      "hello, world!\n"
     ]
    }
   ],
   "source": [
    "a = \"Hello, World!\"\n",
    "print(a.upper())\n",
    "print()\n",
    "print(a.lower())"
   ]
  },
  {
   "cell_type": "code",
   "execution_count": 7,
   "metadata": {},
   "outputs": [
    {
     "name": "stdout",
     "output_type": "stream",
     "text": [
      "Hello, World!\n"
     ]
    }
   ],
   "source": [
    "#El strip()método elimina cualquier espacio en blanco desde el principio o el final:\n",
    "a = \"   Hello, World!   \"\n",
    "print(a.strip()) # returns \"Hello, World!\""
   ]
  },
  {
   "cell_type": "code",
   "execution_count": 6,
   "metadata": {},
   "outputs": [
    {
     "name": "stdout",
     "output_type": "stream",
     "text": [
      "Jello, World!\n"
     ]
    }
   ],
   "source": [
    "#El replace()método reemplaza una cadena con otra cadena:\n",
    "\n",
    "a = \"Hello, World!\"\n",
    "print(a.replace(\"H\", \"J\"))"
   ]
  },
  {
   "cell_type": "code",
   "execution_count": 5,
   "metadata": {},
   "outputs": [
    {
     "name": "stdout",
     "output_type": "stream",
     "text": [
      "['Hello, ', 'orld!']\n"
     ]
    }
   ],
   "source": [
    "#El split()método divide la cadena en subcadenas si encuentra instancias del separador:\n",
    "\n",
    "a = \"Hello, World!\"\n",
    "print(a.split(\",\")) # returns ['Hello', ' World!']"
   ]
  },
  {
   "cell_type": "markdown",
   "metadata": {},
   "source": [
    "##### Metodos de string\n",
    "\n",
    "[https://www.w3schools.com/python/python_ref_string.asp](https://www.w3schools.com/python/python_ref_string.asp)"
   ]
  }
 ],
 "metadata": {
  "kernelspec": {
   "display_name": "Python 3.8.2 64-bit",
   "language": "python",
   "name": "python3"
  },
  "language_info": {
   "codemirror_mode": {
    "name": "ipython",
    "version": 3
   },
   "file_extension": ".py",
   "mimetype": "text/x-python",
   "name": "python",
   "nbconvert_exporter": "python",
   "pygments_lexer": "ipython3",
   "version": "3.8.2"
  },
  "orig_nbformat": 4,
  "vscode": {
   "interpreter": {
    "hash": "0adcc2737ebf6a4a119f135174df96668767fca1ef1112612db5ecadf2b6d608"
   }
  }
 },
 "nbformat": 4,
 "nbformat_minor": 2
}
